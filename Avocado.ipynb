{
 "cells": [
  {
   "cell_type": "markdown",
   "id": "86b00f37",
   "metadata": {},
   "source": [
    "## Avacado\n",
    "\n",
    "The avocado, a tree likely originating from south-central Mexico, is classified as a member of the flowering plant family Lauraceae. The fruit of the plant, also called an avocado, is botanically a large berry containing a single large seed.\n",
    "\n",
    "The goal is to predict the average price which is continuous in nature of the different type of avocado and using the region that in which region they are lying."
   ]
  },
  {
   "cell_type": "markdown",
   "id": "c4edea6f",
   "metadata": {},
   "source": [
    "### Importing Liberaries"
   ]
  },
  {
   "cell_type": "code",
   "execution_count": 110,
   "id": "841e12f5",
   "metadata": {},
   "outputs": [],
   "source": [
    "import pandas as pd\n",
    "import numpy as np\n",
    "import seaborn as sns\n",
    "import matplotlib.pyplot as plt\n",
    "%matplotlib inline\n",
    "import warnings\n",
    "warnings.filterwarnings('ignore')\n",
    "from sklearn.metrics import accuracy_score,classification_report,confusion_matrix,roc_auc_score,roc_curve\n",
    "from sklearn.model_selection import train_test_split, cross_val_score, GridSearchCV\n",
    "from sklearn.linear_model import LogisticRegression\n",
    "from sklearn.ensemble import AdaBoostClassifier\n",
    "from sklearn.neighbors import KNeighborsRegressor\n",
    "from sklearn.metrics import mean_squared_error, r2_score, mean_absolute_error\n",
    "from sklearn.naive_bayes import GaussianNB\n",
    "from sklearn.svm import SVC,SVR\n",
    "from sklearn.preprocessing import LabelEncoder,StandardScaler\n",
    "from sklearn.decomposition import PCA\n",
    "from scipy.stats import zscore"
   ]
  },
  {
   "cell_type": "code",
   "execution_count": 20,
   "id": "de7a34d4",
   "metadata": {
    "scrolled": false
   },
   "outputs": [
    {
     "data": {
      "text/html": [
       "<div>\n",
       "<style scoped>\n",
       "    .dataframe tbody tr th:only-of-type {\n",
       "        vertical-align: middle;\n",
       "    }\n",
       "\n",
       "    .dataframe tbody tr th {\n",
       "        vertical-align: top;\n",
       "    }\n",
       "\n",
       "    .dataframe thead th {\n",
       "        text-align: right;\n",
       "    }\n",
       "</style>\n",
       "<table border=\"1\" class=\"dataframe\">\n",
       "  <thead>\n",
       "    <tr style=\"text-align: right;\">\n",
       "      <th></th>\n",
       "      <th>Unnamed: 0</th>\n",
       "      <th>Date</th>\n",
       "      <th>AveragePrice</th>\n",
       "      <th>Total Volume</th>\n",
       "      <th>4046</th>\n",
       "      <th>4225</th>\n",
       "      <th>4770</th>\n",
       "      <th>Total Bags</th>\n",
       "      <th>Small Bags</th>\n",
       "      <th>Large Bags</th>\n",
       "      <th>XLarge Bags</th>\n",
       "      <th>type</th>\n",
       "      <th>year</th>\n",
       "      <th>region</th>\n",
       "    </tr>\n",
       "  </thead>\n",
       "  <tbody>\n",
       "    <tr>\n",
       "      <th>0</th>\n",
       "      <td>0</td>\n",
       "      <td>12/27/2015</td>\n",
       "      <td>1.33</td>\n",
       "      <td>64236.62</td>\n",
       "      <td>1036.74</td>\n",
       "      <td>54454.85</td>\n",
       "      <td>48.16</td>\n",
       "      <td>8696.87</td>\n",
       "      <td>8603.62</td>\n",
       "      <td>93.25</td>\n",
       "      <td>0.0</td>\n",
       "      <td>conventional</td>\n",
       "      <td>2015</td>\n",
       "      <td>Albany</td>\n",
       "    </tr>\n",
       "    <tr>\n",
       "      <th>1</th>\n",
       "      <td>1</td>\n",
       "      <td>12/20/2015</td>\n",
       "      <td>1.35</td>\n",
       "      <td>54876.98</td>\n",
       "      <td>674.28</td>\n",
       "      <td>44638.81</td>\n",
       "      <td>58.33</td>\n",
       "      <td>9505.56</td>\n",
       "      <td>9408.07</td>\n",
       "      <td>97.49</td>\n",
       "      <td>0.0</td>\n",
       "      <td>conventional</td>\n",
       "      <td>2015</td>\n",
       "      <td>Albany</td>\n",
       "    </tr>\n",
       "    <tr>\n",
       "      <th>2</th>\n",
       "      <td>2</td>\n",
       "      <td>12/13/2015</td>\n",
       "      <td>0.93</td>\n",
       "      <td>118220.22</td>\n",
       "      <td>794.70</td>\n",
       "      <td>109149.67</td>\n",
       "      <td>130.50</td>\n",
       "      <td>8145.35</td>\n",
       "      <td>8042.21</td>\n",
       "      <td>103.14</td>\n",
       "      <td>0.0</td>\n",
       "      <td>conventional</td>\n",
       "      <td>2015</td>\n",
       "      <td>Albany</td>\n",
       "    </tr>\n",
       "    <tr>\n",
       "      <th>3</th>\n",
       "      <td>3</td>\n",
       "      <td>12/6/2015</td>\n",
       "      <td>1.08</td>\n",
       "      <td>78992.15</td>\n",
       "      <td>1132.00</td>\n",
       "      <td>71976.41</td>\n",
       "      <td>72.58</td>\n",
       "      <td>5811.16</td>\n",
       "      <td>5677.40</td>\n",
       "      <td>133.76</td>\n",
       "      <td>0.0</td>\n",
       "      <td>conventional</td>\n",
       "      <td>2015</td>\n",
       "      <td>Albany</td>\n",
       "    </tr>\n",
       "    <tr>\n",
       "      <th>4</th>\n",
       "      <td>4</td>\n",
       "      <td>11/29/2015</td>\n",
       "      <td>1.28</td>\n",
       "      <td>51039.60</td>\n",
       "      <td>941.48</td>\n",
       "      <td>43838.39</td>\n",
       "      <td>75.78</td>\n",
       "      <td>6183.95</td>\n",
       "      <td>5986.26</td>\n",
       "      <td>197.69</td>\n",
       "      <td>0.0</td>\n",
       "      <td>conventional</td>\n",
       "      <td>2015</td>\n",
       "      <td>Albany</td>\n",
       "    </tr>\n",
       "    <tr>\n",
       "      <th>...</th>\n",
       "      <td>...</td>\n",
       "      <td>...</td>\n",
       "      <td>...</td>\n",
       "      <td>...</td>\n",
       "      <td>...</td>\n",
       "      <td>...</td>\n",
       "      <td>...</td>\n",
       "      <td>...</td>\n",
       "      <td>...</td>\n",
       "      <td>...</td>\n",
       "      <td>...</td>\n",
       "      <td>...</td>\n",
       "      <td>...</td>\n",
       "      <td>...</td>\n",
       "    </tr>\n",
       "    <tr>\n",
       "      <th>18244</th>\n",
       "      <td>7</td>\n",
       "      <td>2/4/2018</td>\n",
       "      <td>1.63</td>\n",
       "      <td>17074.83</td>\n",
       "      <td>2046.96</td>\n",
       "      <td>1529.20</td>\n",
       "      <td>0.00</td>\n",
       "      <td>13498.67</td>\n",
       "      <td>13066.82</td>\n",
       "      <td>431.85</td>\n",
       "      <td>0.0</td>\n",
       "      <td>organic</td>\n",
       "      <td>2018</td>\n",
       "      <td>WestTexNewMexico</td>\n",
       "    </tr>\n",
       "    <tr>\n",
       "      <th>18245</th>\n",
       "      <td>8</td>\n",
       "      <td>1/28/2018</td>\n",
       "      <td>1.71</td>\n",
       "      <td>13888.04</td>\n",
       "      <td>1191.70</td>\n",
       "      <td>3431.50</td>\n",
       "      <td>0.00</td>\n",
       "      <td>9264.84</td>\n",
       "      <td>8940.04</td>\n",
       "      <td>324.80</td>\n",
       "      <td>0.0</td>\n",
       "      <td>organic</td>\n",
       "      <td>2018</td>\n",
       "      <td>WestTexNewMexico</td>\n",
       "    </tr>\n",
       "    <tr>\n",
       "      <th>18246</th>\n",
       "      <td>9</td>\n",
       "      <td>1/21/2018</td>\n",
       "      <td>1.87</td>\n",
       "      <td>13766.76</td>\n",
       "      <td>1191.92</td>\n",
       "      <td>2452.79</td>\n",
       "      <td>727.94</td>\n",
       "      <td>9394.11</td>\n",
       "      <td>9351.80</td>\n",
       "      <td>42.31</td>\n",
       "      <td>0.0</td>\n",
       "      <td>organic</td>\n",
       "      <td>2018</td>\n",
       "      <td>WestTexNewMexico</td>\n",
       "    </tr>\n",
       "    <tr>\n",
       "      <th>18247</th>\n",
       "      <td>10</td>\n",
       "      <td>1/14/2018</td>\n",
       "      <td>1.93</td>\n",
       "      <td>16205.22</td>\n",
       "      <td>1527.63</td>\n",
       "      <td>2981.04</td>\n",
       "      <td>727.01</td>\n",
       "      <td>10969.54</td>\n",
       "      <td>10919.54</td>\n",
       "      <td>50.00</td>\n",
       "      <td>0.0</td>\n",
       "      <td>organic</td>\n",
       "      <td>2018</td>\n",
       "      <td>WestTexNewMexico</td>\n",
       "    </tr>\n",
       "    <tr>\n",
       "      <th>18248</th>\n",
       "      <td>11</td>\n",
       "      <td>1/7/2018</td>\n",
       "      <td>1.62</td>\n",
       "      <td>17489.58</td>\n",
       "      <td>2894.77</td>\n",
       "      <td>2356.13</td>\n",
       "      <td>224.53</td>\n",
       "      <td>12014.15</td>\n",
       "      <td>11988.14</td>\n",
       "      <td>26.01</td>\n",
       "      <td>0.0</td>\n",
       "      <td>organic</td>\n",
       "      <td>2018</td>\n",
       "      <td>WestTexNewMexico</td>\n",
       "    </tr>\n",
       "  </tbody>\n",
       "</table>\n",
       "<p>18249 rows × 14 columns</p>\n",
       "</div>"
      ],
      "text/plain": [
       "       Unnamed: 0        Date  AveragePrice  Total Volume     4046       4225  \\\n",
       "0               0  12/27/2015          1.33      64236.62  1036.74   54454.85   \n",
       "1               1  12/20/2015          1.35      54876.98   674.28   44638.81   \n",
       "2               2  12/13/2015          0.93     118220.22   794.70  109149.67   \n",
       "3               3   12/6/2015          1.08      78992.15  1132.00   71976.41   \n",
       "4               4  11/29/2015          1.28      51039.60   941.48   43838.39   \n",
       "...           ...         ...           ...           ...      ...        ...   \n",
       "18244           7    2/4/2018          1.63      17074.83  2046.96    1529.20   \n",
       "18245           8   1/28/2018          1.71      13888.04  1191.70    3431.50   \n",
       "18246           9   1/21/2018          1.87      13766.76  1191.92    2452.79   \n",
       "18247          10   1/14/2018          1.93      16205.22  1527.63    2981.04   \n",
       "18248          11    1/7/2018          1.62      17489.58  2894.77    2356.13   \n",
       "\n",
       "         4770  Total Bags  Small Bags  Large Bags  XLarge Bags          type  \\\n",
       "0       48.16     8696.87     8603.62       93.25          0.0  conventional   \n",
       "1       58.33     9505.56     9408.07       97.49          0.0  conventional   \n",
       "2      130.50     8145.35     8042.21      103.14          0.0  conventional   \n",
       "3       72.58     5811.16     5677.40      133.76          0.0  conventional   \n",
       "4       75.78     6183.95     5986.26      197.69          0.0  conventional   \n",
       "...       ...         ...         ...         ...          ...           ...   \n",
       "18244    0.00    13498.67    13066.82      431.85          0.0       organic   \n",
       "18245    0.00     9264.84     8940.04      324.80          0.0       organic   \n",
       "18246  727.94     9394.11     9351.80       42.31          0.0       organic   \n",
       "18247  727.01    10969.54    10919.54       50.00          0.0       organic   \n",
       "18248  224.53    12014.15    11988.14       26.01          0.0       organic   \n",
       "\n",
       "       year            region  \n",
       "0      2015            Albany  \n",
       "1      2015            Albany  \n",
       "2      2015            Albany  \n",
       "3      2015            Albany  \n",
       "4      2015            Albany  \n",
       "...     ...               ...  \n",
       "18244  2018  WestTexNewMexico  \n",
       "18245  2018  WestTexNewMexico  \n",
       "18246  2018  WestTexNewMexico  \n",
       "18247  2018  WestTexNewMexico  \n",
       "18248  2018  WestTexNewMexico  \n",
       "\n",
       "[18249 rows x 14 columns]"
      ]
     },
     "execution_count": 20,
     "metadata": {},
     "output_type": "execute_result"
    }
   ],
   "source": [
    "df = pd.read_csv(\"E:/Study/Avacado.csv\")\n",
    "df"
   ]
  },
  {
   "cell_type": "code",
   "execution_count": 21,
   "id": "5066a4e6",
   "metadata": {},
   "outputs": [
    {
     "data": {
      "text/plain": [
       "(18249, 14)"
      ]
     },
     "execution_count": 21,
     "metadata": {},
     "output_type": "execute_result"
    }
   ],
   "source": [
    "df.shape"
   ]
  },
  {
   "cell_type": "code",
   "execution_count": 22,
   "id": "ef1562b3",
   "metadata": {},
   "outputs": [
    {
     "name": "stdout",
     "output_type": "stream",
     "text": [
      "<class 'pandas.core.frame.DataFrame'>\n",
      "RangeIndex: 18249 entries, 0 to 18248\n",
      "Data columns (total 14 columns):\n",
      " #   Column        Non-Null Count  Dtype  \n",
      "---  ------        --------------  -----  \n",
      " 0   Unnamed: 0    18249 non-null  int64  \n",
      " 1   Date          18249 non-null  object \n",
      " 2   AveragePrice  18249 non-null  float64\n",
      " 3   Total Volume  18249 non-null  float64\n",
      " 4   4046          18249 non-null  float64\n",
      " 5   4225          18249 non-null  float64\n",
      " 6   4770          18249 non-null  float64\n",
      " 7   Total Bags    18249 non-null  float64\n",
      " 8   Small Bags    18249 non-null  float64\n",
      " 9   Large Bags    18249 non-null  float64\n",
      " 10  XLarge Bags   18249 non-null  float64\n",
      " 11  type          18249 non-null  object \n",
      " 12  year          18249 non-null  int64  \n",
      " 13  region        18249 non-null  object \n",
      "dtypes: float64(9), int64(2), object(3)\n",
      "memory usage: 1.9+ MB\n"
     ]
    }
   ],
   "source": [
    "df.info()"
   ]
  },
  {
   "cell_type": "code",
   "execution_count": 23,
   "id": "ed994630",
   "metadata": {},
   "outputs": [
    {
     "data": {
      "text/plain": [
       "Index(['Unnamed: 0', 'Date', 'AveragePrice', 'Total Volume', '4046', '4225',\n",
       "       '4770', 'Total Bags', 'Small Bags', 'Large Bags', 'XLarge Bags', 'type',\n",
       "       'year', 'region'],\n",
       "      dtype='object')"
      ]
     },
     "execution_count": 23,
     "metadata": {},
     "output_type": "execute_result"
    }
   ],
   "source": [
    "df.columns"
   ]
  },
  {
   "cell_type": "code",
   "execution_count": 24,
   "id": "dcf15285",
   "metadata": {},
   "outputs": [
    {
     "data": {
      "text/plain": [
       "Unnamed: 0      0\n",
       "Date            0\n",
       "AveragePrice    0\n",
       "Total Volume    0\n",
       "4046            0\n",
       "4225            0\n",
       "4770            0\n",
       "Total Bags      0\n",
       "Small Bags      0\n",
       "Large Bags      0\n",
       "XLarge Bags     0\n",
       "type            0\n",
       "year            0\n",
       "region          0\n",
       "dtype: int64"
      ]
     },
     "execution_count": 24,
     "metadata": {},
     "output_type": "execute_result"
    }
   ],
   "source": [
    "df.isnull().sum()"
   ]
  },
  {
   "cell_type": "code",
   "execution_count": 25,
   "id": "cbeda970",
   "metadata": {
    "scrolled": true
   },
   "outputs": [
    {
     "data": {
      "text/plain": [
       "<AxesSubplot:>"
      ]
     },
     "execution_count": 25,
     "metadata": {},
     "output_type": "execute_result"
    },
    {
     "data": {
      "image/png": "[encoded data removed]",
      "text/plain": [
       "<Figure size 432x288 with 2 Axes>"
      ]
     },
     "metadata": {
      "needs_background": "light"
     },
     "output_type": "display_data"
    }
   ],
   "source": [
    "sns.heatmap(df.isnull())"
   ]
  },
  {
   "cell_type": "code",
   "execution_count": 26,
   "id": "3f0ea408",
   "metadata": {},
   "outputs": [],
   "source": [
    "df.drop(columns ='Unnamed: 0', inplace=True)"
   ]
  },
  {
   "cell_type": "code",
   "execution_count": 27,
   "id": "4840aa38",
   "metadata": {},
   "outputs": [
    {
     "data": {
      "text/plain": [
       "(18249, 13)"
      ]
     },
     "execution_count": 27,
     "metadata": {},
     "output_type": "execute_result"
    }
   ],
   "source": [
    "df.shape"
   ]
  },
  {
   "cell_type": "code",
   "execution_count": 30,
   "id": "c0cfe32a",
   "metadata": {},
   "outputs": [
    {
     "data": {
      "text/plain": [
       "5588"
      ]
     },
     "execution_count": 30,
     "metadata": {},
     "output_type": "execute_result"
    }
   ],
   "source": [
    "df['XLarge Bags'].nunique()"
   ]
  },
  {
   "cell_type": "code",
   "execution_count": 32,
   "id": "ce5e938f",
   "metadata": {},
   "outputs": [
    {
     "data": {
      "text/plain": [
       "array(['conventional', 'organic'], dtype=object)"
      ]
     },
     "execution_count": 32,
     "metadata": {},
     "output_type": "execute_result"
    }
   ],
   "source": [
    "df['type'].unique()"
   ]
  },
  {
   "cell_type": "code",
   "execution_count": 33,
   "id": "a69a7881",
   "metadata": {},
   "outputs": [
    {
     "data": {
      "text/plain": [
       "54"
      ]
     },
     "execution_count": 33,
     "metadata": {},
     "output_type": "execute_result"
    }
   ],
   "source": [
    "df['region'].nunique()"
   ]
  },
  {
   "cell_type": "code",
   "execution_count": 35,
   "id": "7333fa06",
   "metadata": {},
   "outputs": [
    {
     "data": {
      "text/plain": [
       "169"
      ]
     },
     "execution_count": 35,
     "metadata": {},
     "output_type": "execute_result"
    }
   ],
   "source": [
    "df['Date'].nunique()"
   ]
  },
  {
   "cell_type": "code",
   "execution_count": 45,
   "id": "e2047d50",
   "metadata": {},
   "outputs": [
    {
     "data": {
      "text/plain": [
       "year  type        \n",
       "2015  conventional    2808\n",
       "      organic         2807\n",
       "2016  conventional    2808\n",
       "      organic         2808\n",
       "2017  conventional    2862\n",
       "      organic         2860\n",
       "2018  conventional     648\n",
       "      organic          648\n",
       "Name: type, dtype: int64"
      ]
     },
     "execution_count": 45,
     "metadata": {},
     "output_type": "execute_result"
    }
   ],
   "source": [
    "## Checking the count of Avacado sold in each year based on the type\n",
    "df.groupby('year')['type'].value_counts()"
   ]
  },
  {
   "cell_type": "code",
   "execution_count": 46,
   "id": "f96ddc5e",
   "metadata": {},
   "outputs": [
    {
     "data": {
      "text/html": [
       "<div>\n",
       "<style scoped>\n",
       "    .dataframe tbody tr th:only-of-type {\n",
       "        vertical-align: middle;\n",
       "    }\n",
       "\n",
       "    .dataframe tbody tr th {\n",
       "        vertical-align: top;\n",
       "    }\n",
       "\n",
       "    .dataframe thead th {\n",
       "        text-align: right;\n",
       "    }\n",
       "</style>\n",
       "<table border=\"1\" class=\"dataframe\">\n",
       "  <thead>\n",
       "    <tr style=\"text-align: right;\">\n",
       "      <th></th>\n",
       "      <th>AveragePrice</th>\n",
       "      <th>Total Volume</th>\n",
       "      <th>4046</th>\n",
       "      <th>4225</th>\n",
       "      <th>4770</th>\n",
       "      <th>Total Bags</th>\n",
       "      <th>Small Bags</th>\n",
       "      <th>Large Bags</th>\n",
       "      <th>XLarge Bags</th>\n",
       "      <th>year</th>\n",
       "    </tr>\n",
       "  </thead>\n",
       "  <tbody>\n",
       "    <tr>\n",
       "      <th>count</th>\n",
       "      <td>18249.000000</td>\n",
       "      <td>1.824900e+04</td>\n",
       "      <td>1.824900e+04</td>\n",
       "      <td>1.824900e+04</td>\n",
       "      <td>1.824900e+04</td>\n",
       "      <td>1.824900e+04</td>\n",
       "      <td>1.824900e+04</td>\n",
       "      <td>1.824900e+04</td>\n",
       "      <td>18249.000000</td>\n",
       "      <td>18249.000000</td>\n",
       "    </tr>\n",
       "    <tr>\n",
       "      <th>mean</th>\n",
       "      <td>1.405978</td>\n",
       "      <td>8.506440e+05</td>\n",
       "      <td>2.930084e+05</td>\n",
       "      <td>2.951546e+05</td>\n",
       "      <td>2.283974e+04</td>\n",
       "      <td>2.396392e+05</td>\n",
       "      <td>1.821947e+05</td>\n",
       "      <td>5.433809e+04</td>\n",
       "      <td>3106.426507</td>\n",
       "      <td>2016.147899</td>\n",
       "    </tr>\n",
       "    <tr>\n",
       "      <th>std</th>\n",
       "      <td>0.402677</td>\n",
       "      <td>3.453545e+06</td>\n",
       "      <td>1.264989e+06</td>\n",
       "      <td>1.204120e+06</td>\n",
       "      <td>1.074641e+05</td>\n",
       "      <td>9.862424e+05</td>\n",
       "      <td>7.461785e+05</td>\n",
       "      <td>2.439660e+05</td>\n",
       "      <td>17692.894652</td>\n",
       "      <td>0.939938</td>\n",
       "    </tr>\n",
       "    <tr>\n",
       "      <th>min</th>\n",
       "      <td>0.440000</td>\n",
       "      <td>8.456000e+01</td>\n",
       "      <td>0.000000e+00</td>\n",
       "      <td>0.000000e+00</td>\n",
       "      <td>0.000000e+00</td>\n",
       "      <td>0.000000e+00</td>\n",
       "      <td>0.000000e+00</td>\n",
       "      <td>0.000000e+00</td>\n",
       "      <td>0.000000</td>\n",
       "      <td>2015.000000</td>\n",
       "    </tr>\n",
       "    <tr>\n",
       "      <th>25%</th>\n",
       "      <td>1.100000</td>\n",
       "      <td>1.083858e+04</td>\n",
       "      <td>8.540700e+02</td>\n",
       "      <td>3.008780e+03</td>\n",
       "      <td>0.000000e+00</td>\n",
       "      <td>5.088640e+03</td>\n",
       "      <td>2.849420e+03</td>\n",
       "      <td>1.274700e+02</td>\n",
       "      <td>0.000000</td>\n",
       "      <td>2015.000000</td>\n",
       "    </tr>\n",
       "    <tr>\n",
       "      <th>50%</th>\n",
       "      <td>1.370000</td>\n",
       "      <td>1.073768e+05</td>\n",
       "      <td>8.645300e+03</td>\n",
       "      <td>2.906102e+04</td>\n",
       "      <td>1.849900e+02</td>\n",
       "      <td>3.974383e+04</td>\n",
       "      <td>2.636282e+04</td>\n",
       "      <td>2.647710e+03</td>\n",
       "      <td>0.000000</td>\n",
       "      <td>2016.000000</td>\n",
       "    </tr>\n",
       "    <tr>\n",
       "      <th>75%</th>\n",
       "      <td>1.660000</td>\n",
       "      <td>4.329623e+05</td>\n",
       "      <td>1.110202e+05</td>\n",
       "      <td>1.502069e+05</td>\n",
       "      <td>6.243420e+03</td>\n",
       "      <td>1.107834e+05</td>\n",
       "      <td>8.333767e+04</td>\n",
       "      <td>2.202925e+04</td>\n",
       "      <td>132.500000</td>\n",
       "      <td>2017.000000</td>\n",
       "    </tr>\n",
       "    <tr>\n",
       "      <th>max</th>\n",
       "      <td>3.250000</td>\n",
       "      <td>6.250565e+07</td>\n",
       "      <td>2.274362e+07</td>\n",
       "      <td>2.047057e+07</td>\n",
       "      <td>2.546439e+06</td>\n",
       "      <td>1.937313e+07</td>\n",
       "      <td>1.338459e+07</td>\n",
       "      <td>5.719097e+06</td>\n",
       "      <td>551693.650000</td>\n",
       "      <td>2018.000000</td>\n",
       "    </tr>\n",
       "  </tbody>\n",
       "</table>\n",
       "</div>"
      ],
      "text/plain": [
       "       AveragePrice  Total Volume          4046          4225          4770  \\\n",
       "count  18249.000000  1.824900e+04  1.824900e+04  1.824900e+04  1.824900e+04   \n",
       "mean       1.405978  8.506440e+05  2.930084e+05  2.951546e+05  2.283974e+04   \n",
       "std        0.402677  3.453545e+06  1.264989e+06  1.204120e+06  1.074641e+05   \n",
       "min        0.440000  8.456000e+01  0.000000e+00  0.000000e+00  0.000000e+00   \n",
       "25%        1.100000  1.083858e+04  8.540700e+02  3.008780e+03  0.000000e+00   \n",
       "50%        1.370000  1.073768e+05  8.645300e+03  2.906102e+04  1.849900e+02   \n",
       "75%        1.660000  4.329623e+05  1.110202e+05  1.502069e+05  6.243420e+03   \n",
       "max        3.250000  6.250565e+07  2.274362e+07  2.047057e+07  2.546439e+06   \n",
       "\n",
       "         Total Bags    Small Bags    Large Bags    XLarge Bags          year  \n",
       "count  1.824900e+04  1.824900e+04  1.824900e+04   18249.000000  18249.000000  \n",
       "mean   2.396392e+05  1.821947e+05  5.433809e+04    3106.426507   2016.147899  \n",
       "std    9.862424e+05  7.461785e+05  2.439660e+05   17692.894652      0.939938  \n",
       "min    0.000000e+00  0.000000e+00  0.000000e+00       0.000000   2015.000000  \n",
       "25%    5.088640e+03  2.849420e+03  1.274700e+02       0.000000   2015.000000  \n",
       "50%    3.974383e+04  2.636282e+04  2.647710e+03       0.000000   2016.000000  \n",
       "75%    1.107834e+05  8.333767e+04  2.202925e+04     132.500000   2017.000000  \n",
       "max    1.937313e+07  1.338459e+07  5.719097e+06  551693.650000   2018.000000  "
      ]
     },
     "execution_count": 46,
     "metadata": {},
     "output_type": "execute_result"
    }
   ],
   "source": [
    "df.describe()"
   ]
  },
  {
   "cell_type": "markdown",
   "id": "82c7e846",
   "metadata": {},
   "source": [
    "Above statistics data show that their multiple outliers mostly in XLargeBags \n",
    "\n",
    "There is also difference between mean and 50% value in some of the columns which used to get fix for better prediction\n",
    "\n",
    "Also, number of rows in each column are same, means there are no null values in the data set.\n",
    "\n",
    "Also, the mean and 50%value of most of the column are same and the STD and mean are very close to each other.\n",
    "\n",
    "Most of the column statistics data are near to 0 values.\n",
    "\n",
    "By checking the difference between the 75% and max value there are outliers in some of the column, I will check it soon."
   ]
  },
  {
   "cell_type": "markdown",
   "id": "e12fa8c5",
   "metadata": {},
   "source": [
    "### Data Visualization"
   ]
  },
  {
   "cell_type": "code",
   "execution_count": 51,
   "id": "8a748bfa",
   "metadata": {},
   "outputs": [
    {
     "data": {
      "text/plain": [
       "<AxesSubplot:>"
      ]
     },
     "execution_count": 51,
     "metadata": {},
     "output_type": "execute_result"
    },
    {
     "data": {
      "image/png": "[encoded data removed]",
      "text/plain": [
       "<Figure size 720x576 with 1 Axes>"
      ]
     },
     "metadata": {
      "needs_background": "light"
     },
     "output_type": "display_data"
    }
   ],
   "source": [
    "df.plot.line(figsize=(10,8))"
   ]
  },
  {
   "cell_type": "code",
   "execution_count": 48,
   "id": "9fe14fbe",
   "metadata": {
    "scrolled": false
   },
   "outputs": [
    {
     "data": {
      "text/plain": [
       "array([<AxesSubplot:>, <AxesSubplot:>, <AxesSubplot:>, <AxesSubplot:>,\n",
       "       <AxesSubplot:>, <AxesSubplot:>, <AxesSubplot:>, <AxesSubplot:>,\n",
       "       <AxesSubplot:>, <AxesSubplot:>], dtype=object)"
      ]
     },
     "execution_count": 48,
     "metadata": {},
     "output_type": "execute_result"
    },
    {
     "data": {
      "image/png": "[encoded data removed]",
      "text/plain": [
       "<Figure size 1440x1440 with 10 Axes>"
      ]
     },
     "metadata": {
      "needs_background": "light"
     },
     "output_type": "display_data"
    }
   ],
   "source": [
    "df.plot.line(subplots = True, figsize=(20,20))"
   ]
  },
  {
   "cell_type": "markdown",
   "id": "12818e0f",
   "metadata": {},
   "source": [
    "In this portion we can plot different graph using different columns and try to visualize the data using matplotlib and seaborn library.\n",
    "\n",
    "We use different graph include:\n",
    "\n",
    "Bar plot\n",
    "\n",
    "Count plot\n",
    "\n",
    "Line plot\n",
    "\n",
    "Histogram and Pair plot\n"
   ]
  },
  {
   "cell_type": "code",
   "execution_count": 57,
   "id": "fc5c1af4",
   "metadata": {},
   "outputs": [
    {
     "data": {
      "text/plain": [
       "<AxesSubplot:xlabel='year', ylabel='AveragePrice'>"
      ]
     },
     "execution_count": 57,
     "metadata": {},
     "output_type": "execute_result"
    },
    {
     "data": {
      "image/png": "[encoded data removed]",
      "text/plain": [
       "<Figure size 432x288 with 1 Axes>"
      ]
     },
     "metadata": {
      "needs_background": "light"
     },
     "output_type": "display_data"
    }
   ],
   "source": [
    "## checking which year has max average price\n",
    "sns.barplot(x='year',y='AveragePrice',data=df)"
   ]
  },
  {
   "cell_type": "code",
   "execution_count": 52,
   "id": "b083481e",
   "metadata": {},
   "outputs": [
    {
     "data": {
      "image/png": "[encoded data removed]",
      "text/plain": [
       "<Figure size 1080x864 with 12 Axes>"
      ]
     },
     "metadata": {
      "needs_background": "light"
     },
     "output_type": "display_data"
    }
   ],
   "source": [
    "df.hist(bins=20,figsize=(15,12))\n",
    "plt.show()"
   ]
  },
  {
   "cell_type": "markdown",
   "id": "ab42587f",
   "metadata": {},
   "source": [
    "Average price column is normally distributing over the histogram.\n",
    "\n",
    "Rest of the data are not much varying in term of numbers, so they are almost left skewed data\n",
    "\n",
    "To make the column as normal distributed we can use different methods, but I am using numPy log to make the skew values as normal distributed.\n"
   ]
  },
  {
   "cell_type": "code",
   "execution_count": 68,
   "id": "8bcb0390",
   "metadata": {},
   "outputs": [
    {
     "data": {
      "text/plain": [
       "AveragePrice     0.580303\n",
       "Total Volume     9.007687\n",
       "4046             8.648220\n",
       "4225             8.942466\n",
       "4770            10.159396\n",
       "Total Bags       9.756072\n",
       "Small Bags       9.540660\n",
       "Large Bags       9.796455\n",
       "XLarge Bags     13.139751\n",
       "year             0.215339\n",
       "dtype: float64"
      ]
     },
     "execution_count": 68,
     "metadata": {},
     "output_type": "execute_result"
    }
   ],
   "source": [
    "df.skew()"
   ]
  },
  {
   "cell_type": "code",
   "execution_count": 69,
   "id": "115e7d65",
   "metadata": {},
   "outputs": [
    {
     "data": {
      "text/plain": [
       "AveragePrice        AxesSubplot(0.125,0.71587;0.133621x0.16413)\n",
       "Total Volume     AxesSubplot(0.285345,0.71587;0.133621x0.16413)\n",
       "4046              AxesSubplot(0.44569,0.71587;0.133621x0.16413)\n",
       "4225             AxesSubplot(0.606034,0.71587;0.133621x0.16413)\n",
       "4770             AxesSubplot(0.766379,0.71587;0.133621x0.16413)\n",
       "Total Bags         AxesSubplot(0.125,0.518913;0.133621x0.16413)\n",
       "Small Bags      AxesSubplot(0.285345,0.518913;0.133621x0.16413)\n",
       "Large Bags       AxesSubplot(0.44569,0.518913;0.133621x0.16413)\n",
       "XLarge Bags     AxesSubplot(0.606034,0.518913;0.133621x0.16413)\n",
       "year            AxesSubplot(0.766379,0.518913;0.133621x0.16413)\n",
       "dtype: object"
      ]
     },
     "execution_count": 69,
     "metadata": {},
     "output_type": "execute_result"
    },
    {
     "data": {
      "image/png": "[encoded data removed]",
      "text/plain": [
       "<Figure size 1080x720 with 20 Axes>"
      ]
     },
     "metadata": {
      "needs_background": "light"
     },
     "output_type": "display_data"
    }
   ],
   "source": [
    "df.plot(kind='box',subplots=True,layout=(4,5),figsize=(15,10))"
   ]
  },
  {
   "cell_type": "code",
   "execution_count": 72,
   "id": "296ac019",
   "metadata": {},
   "outputs": [],
   "source": [
    "#separating the target column from the independent features\n",
    "x=df.drop('AveragePrice',axis=1)\n",
    "y=df['AveragePrice']"
   ]
  },
  {
   "cell_type": "code",
   "execution_count": 73,
   "id": "bb9511bd",
   "metadata": {},
   "outputs": [
    {
     "name": "stdout",
     "output_type": "stream",
     "text": [
      "<class 'pandas.core.frame.DataFrame'>\n",
      "RangeIndex: 18249 entries, 0 to 18248\n",
      "Data columns (total 13 columns):\n",
      " #   Column        Non-Null Count  Dtype  \n",
      "---  ------        --------------  -----  \n",
      " 0   Date          18249 non-null  object \n",
      " 1   AveragePrice  18249 non-null  float64\n",
      " 2   Total Volume  18249 non-null  float64\n",
      " 3   4046          18249 non-null  float64\n",
      " 4   4225          18249 non-null  float64\n",
      " 5   4770          18249 non-null  float64\n",
      " 6   Total Bags    18249 non-null  float64\n",
      " 7   Small Bags    18249 non-null  float64\n",
      " 8   Large Bags    18249 non-null  float64\n",
      " 9   XLarge Bags   18249 non-null  float64\n",
      " 10  type          18249 non-null  object \n",
      " 11  year          18249 non-null  int64  \n",
      " 12  region        18249 non-null  object \n",
      "dtypes: float64(9), int64(1), object(3)\n",
      "memory usage: 1.8+ MB\n"
     ]
    }
   ],
   "source": [
    "df.info()"
   ]
  },
  {
   "cell_type": "code",
   "execution_count": 74,
   "id": "8ca5101a",
   "metadata": {},
   "outputs": [],
   "source": [
    "#encoding the region column using label encoder\n",
    "from sklearn.preprocessing import LabelEncoder,OneHotEncoder\n",
    "le=LabelEncoder()\n",
    "df['region']=le.fit_transform(df['region'])"
   ]
  },
  {
   "cell_type": "code",
   "execution_count": 75,
   "id": "3c27b040",
   "metadata": {},
   "outputs": [],
   "source": [
    "df['type']=le.fit_transform(df['type'])"
   ]
  },
  {
   "cell_type": "code",
   "execution_count": 76,
   "id": "9ec67796",
   "metadata": {
    "scrolled": false
   },
   "outputs": [
    {
     "data": {
      "text/plain": [
       "<AxesSubplot:>"
      ]
     },
     "execution_count": 76,
     "metadata": {},
     "output_type": "execute_result"
    },
    {
     "data": {
      "image/png": "[encoded data removed]",
      "text/plain": [
       "<Figure size 720x720 with 2 Axes>"
      ]
     },
     "metadata": {
      "needs_background": "light"
     },
     "output_type": "display_data"
    }
   ],
   "source": [
    "plt.figure(figsize=(10,10))\n",
    "sns.heatmap(df.corr(),annot=True)"
   ]
  },
  {
   "cell_type": "markdown",
   "id": "8498836b",
   "metadata": {},
   "source": [
    "Almost all the columns show signs of multicollinearity Further investigation on the same"
   ]
  },
  {
   "cell_type": "code",
   "execution_count": 77,
   "id": "abcd163c",
   "metadata": {},
   "outputs": [],
   "source": [
    "from statsmodels.stats.outliers_influence import variance_inflation_factor"
   ]
  },
  {
   "cell_type": "code",
   "execution_count": 78,
   "id": "bafc5691",
   "metadata": {},
   "outputs": [],
   "source": [
    "def calc_vif(x):\n",
    "    vif=pd.DataFrame()\n",
    "    vif['Variables']=x.columns\n",
    "    vif['VIF factor']=[variance_inflation_factor(x.values,i) for i in range(x.shape[1])]\n",
    "    return vif"
   ]
  },
  {
   "cell_type": "code",
   "execution_count": 79,
   "id": "e64e2d73",
   "metadata": {},
   "outputs": [],
   "source": [
    "df_n=df.drop('Date',axis=1)"
   ]
  },
  {
   "cell_type": "code",
   "execution_count": 80,
   "id": "bba3fbec",
   "metadata": {},
   "outputs": [],
   "source": [
    "df_n=df_n.drop('region',axis=1)"
   ]
  },
  {
   "cell_type": "code",
   "execution_count": 81,
   "id": "fc886b63",
   "metadata": {},
   "outputs": [],
   "source": [
    "df_n=df_n.drop('type',axis=1)"
   ]
  },
  {
   "cell_type": "code",
   "execution_count": 82,
   "id": "d6361cd4",
   "metadata": {},
   "outputs": [
    {
     "name": "stdout",
     "output_type": "stream",
     "text": [
      "      Variables    VIF factor\n",
      "0  AveragePrice  1.391351e+01\n",
      "1  Total Volume  5.204945e+09\n",
      "2          4046  6.937023e+08\n",
      "3          4225  6.323877e+08\n",
      "4          4770  4.966241e+06\n",
      "5    Total Bags  2.502000e+14\n",
      "6    Small Bags  1.429714e+14\n",
      "7    Large Bags  1.521486e+13\n",
      "8   XLarge Bags  7.855161e+10\n",
      "9          year  1.424078e+01\n"
     ]
    }
   ],
   "source": [
    "print(calc_vif(df_n))"
   ]
  },
  {
   "cell_type": "code",
   "execution_count": 83,
   "id": "34f6112e",
   "metadata": {},
   "outputs": [
    {
     "data": {
      "text/plain": [
       "<AxesSubplot:>"
      ]
     },
     "execution_count": 83,
     "metadata": {},
     "output_type": "execute_result"
    },
    {
     "data": {
      "image/png": "[encoded data removed]",
      "text/plain": [
       "<Figure size 720x720 with 2 Axes>"
      ]
     },
     "metadata": {
      "needs_background": "light"
     },
     "output_type": "display_data"
    }
   ],
   "source": [
    "plt.figure(figsize=(10,10))\n",
    "sns.heatmap(df.corr(),annot=True)"
   ]
  },
  {
   "cell_type": "markdown",
   "id": "ea7e2ff0",
   "metadata": {},
   "source": [
    "The columns small bags,Large Bags,XLarge Bags are highly colinear with the total bags as they are being explained by the total bags columns itself,hence dropping them should.not have a significant effect on the model performance"
   ]
  },
  {
   "cell_type": "code",
   "execution_count": 84,
   "id": "54334990",
   "metadata": {},
   "outputs": [],
   "source": [
    "df.drop('Total Bags',axis=1,inplace=True)\n",
    "#df.drop('Large Bags',axis=1,inplace=True)\n",
    "#df.drop('XLarge Bags',axis=1,inplace=True)\n",
    "#df.head()"
   ]
  },
  {
   "cell_type": "markdown",
   "id": "20fc446f",
   "metadata": {},
   "source": [
    "The features 4046,4225,4770 show high colinearity with total volume as they are being explained by the feature already."
   ]
  },
  {
   "cell_type": "code",
   "execution_count": 85,
   "id": "3ec70e05",
   "metadata": {},
   "outputs": [],
   "source": [
    "df.drop('Total Volume',axis=1,inplace=True)\n",
    "#df.drop('4225',axis=1,inplace=True)\n",
    "#df.drop('4770',axis=1,inplace=True)\n",
    "#df.head()"
   ]
  },
  {
   "cell_type": "code",
   "execution_count": 86,
   "id": "4cb37305",
   "metadata": {},
   "outputs": [
    {
     "data": {
      "text/plain": [
       "4"
      ]
     },
     "execution_count": 86,
     "metadata": {},
     "output_type": "execute_result"
    }
   ],
   "source": [
    "df['year'].nunique()"
   ]
  },
  {
   "cell_type": "code",
   "execution_count": 87,
   "id": "e07fd60a",
   "metadata": {},
   "outputs": [
    {
     "data": {
      "text/plain": [
       "array([0, 1, 2, 3], dtype=int64)"
      ]
     },
     "execution_count": 87,
     "metadata": {},
     "output_type": "execute_result"
    }
   ],
   "source": [
    "df['year']=le.fit_transform(df['year'])\n",
    "df['year'].unique()"
   ]
  },
  {
   "cell_type": "code",
   "execution_count": 88,
   "id": "af2b8264",
   "metadata": {},
   "outputs": [],
   "source": [
    "#since we already have the year column,the date column is not significant \n",
    "df.drop('Date',axis=1,inplace=True)"
   ]
  },
  {
   "cell_type": "code",
   "execution_count": 89,
   "id": "5d2c3a74",
   "metadata": {},
   "outputs": [
    {
     "data": {
      "text/html": [
       "<div>\n",
       "<style scoped>\n",
       "    .dataframe tbody tr th:only-of-type {\n",
       "        vertical-align: middle;\n",
       "    }\n",
       "\n",
       "    .dataframe tbody tr th {\n",
       "        vertical-align: top;\n",
       "    }\n",
       "\n",
       "    .dataframe thead th {\n",
       "        text-align: right;\n",
       "    }\n",
       "</style>\n",
       "<table border=\"1\" class=\"dataframe\">\n",
       "  <thead>\n",
       "    <tr style=\"text-align: right;\">\n",
       "      <th></th>\n",
       "      <th>AveragePrice</th>\n",
       "      <th>4046</th>\n",
       "      <th>4225</th>\n",
       "      <th>4770</th>\n",
       "      <th>Small Bags</th>\n",
       "      <th>Large Bags</th>\n",
       "      <th>XLarge Bags</th>\n",
       "      <th>type</th>\n",
       "      <th>year</th>\n",
       "      <th>region</th>\n",
       "    </tr>\n",
       "  </thead>\n",
       "  <tbody>\n",
       "    <tr>\n",
       "      <th>0</th>\n",
       "      <td>1.33</td>\n",
       "      <td>1036.74</td>\n",
       "      <td>54454.85</td>\n",
       "      <td>48.16</td>\n",
       "      <td>8603.62</td>\n",
       "      <td>93.25</td>\n",
       "      <td>0.0</td>\n",
       "      <td>0</td>\n",
       "      <td>0</td>\n",
       "      <td>0</td>\n",
       "    </tr>\n",
       "    <tr>\n",
       "      <th>1</th>\n",
       "      <td>1.35</td>\n",
       "      <td>674.28</td>\n",
       "      <td>44638.81</td>\n",
       "      <td>58.33</td>\n",
       "      <td>9408.07</td>\n",
       "      <td>97.49</td>\n",
       "      <td>0.0</td>\n",
       "      <td>0</td>\n",
       "      <td>0</td>\n",
       "      <td>0</td>\n",
       "    </tr>\n",
       "    <tr>\n",
       "      <th>2</th>\n",
       "      <td>0.93</td>\n",
       "      <td>794.70</td>\n",
       "      <td>109149.67</td>\n",
       "      <td>130.50</td>\n",
       "      <td>8042.21</td>\n",
       "      <td>103.14</td>\n",
       "      <td>0.0</td>\n",
       "      <td>0</td>\n",
       "      <td>0</td>\n",
       "      <td>0</td>\n",
       "    </tr>\n",
       "    <tr>\n",
       "      <th>3</th>\n",
       "      <td>1.08</td>\n",
       "      <td>1132.00</td>\n",
       "      <td>71976.41</td>\n",
       "      <td>72.58</td>\n",
       "      <td>5677.40</td>\n",
       "      <td>133.76</td>\n",
       "      <td>0.0</td>\n",
       "      <td>0</td>\n",
       "      <td>0</td>\n",
       "      <td>0</td>\n",
       "    </tr>\n",
       "    <tr>\n",
       "      <th>4</th>\n",
       "      <td>1.28</td>\n",
       "      <td>941.48</td>\n",
       "      <td>43838.39</td>\n",
       "      <td>75.78</td>\n",
       "      <td>5986.26</td>\n",
       "      <td>197.69</td>\n",
       "      <td>0.0</td>\n",
       "      <td>0</td>\n",
       "      <td>0</td>\n",
       "      <td>0</td>\n",
       "    </tr>\n",
       "  </tbody>\n",
       "</table>\n",
       "</div>"
      ],
      "text/plain": [
       "   AveragePrice     4046       4225    4770  Small Bags  Large Bags  \\\n",
       "0          1.33  1036.74   54454.85   48.16     8603.62       93.25   \n",
       "1          1.35   674.28   44638.81   58.33     9408.07       97.49   \n",
       "2          0.93   794.70  109149.67  130.50     8042.21      103.14   \n",
       "3          1.08  1132.00   71976.41   72.58     5677.40      133.76   \n",
       "4          1.28   941.48   43838.39   75.78     5986.26      197.69   \n",
       "\n",
       "   XLarge Bags  type  year  region  \n",
       "0          0.0     0     0       0  \n",
       "1          0.0     0     0       0  \n",
       "2          0.0     0     0       0  \n",
       "3          0.0     0     0       0  \n",
       "4          0.0     0     0       0  "
      ]
     },
     "execution_count": 89,
     "metadata": {},
     "output_type": "execute_result"
    }
   ],
   "source": [
    "x1=df.drop('AveragePrice',axis=1)\n",
    "y1=df['AveragePrice']\n",
    "df.head()"
   ]
  },
  {
   "cell_type": "markdown",
   "id": "280ce845",
   "metadata": {},
   "source": [
    "### REGRESSION (AVERAGE PRICE PREDICTION)\n",
    "\n",
    "#### EDA"
   ]
  },
  {
   "cell_type": "code",
   "execution_count": 90,
   "id": "2ebf0865",
   "metadata": {},
   "outputs": [
    {
     "data": {
      "text/html": [
       "<div>\n",
       "<style scoped>\n",
       "    .dataframe tbody tr th:only-of-type {\n",
       "        vertical-align: middle;\n",
       "    }\n",
       "\n",
       "    .dataframe tbody tr th {\n",
       "        vertical-align: top;\n",
       "    }\n",
       "\n",
       "    .dataframe thead th {\n",
       "        text-align: right;\n",
       "    }\n",
       "</style>\n",
       "<table border=\"1\" class=\"dataframe\">\n",
       "  <thead>\n",
       "    <tr style=\"text-align: right;\">\n",
       "      <th></th>\n",
       "      <th>Variables</th>\n",
       "      <th>VIF factor</th>\n",
       "    </tr>\n",
       "  </thead>\n",
       "  <tbody>\n",
       "    <tr>\n",
       "      <th>0</th>\n",
       "      <td>4046</td>\n",
       "      <td>10.628848</td>\n",
       "    </tr>\n",
       "    <tr>\n",
       "      <th>1</th>\n",
       "      <td>4225</td>\n",
       "      <td>14.077990</td>\n",
       "    </tr>\n",
       "    <tr>\n",
       "      <th>2</th>\n",
       "      <td>4770</td>\n",
       "      <td>5.595269</td>\n",
       "    </tr>\n",
       "    <tr>\n",
       "      <th>3</th>\n",
       "      <td>Small Bags</td>\n",
       "      <td>20.647290</td>\n",
       "    </tr>\n",
       "    <tr>\n",
       "      <th>4</th>\n",
       "      <td>Large Bags</td>\n",
       "      <td>5.833962</td>\n",
       "    </tr>\n",
       "    <tr>\n",
       "      <th>5</th>\n",
       "      <td>XLarge Bags</td>\n",
       "      <td>3.517597</td>\n",
       "    </tr>\n",
       "    <tr>\n",
       "      <th>6</th>\n",
       "      <td>type</td>\n",
       "      <td>1.785626</td>\n",
       "    </tr>\n",
       "    <tr>\n",
       "      <th>7</th>\n",
       "      <td>year</td>\n",
       "      <td>1.979974</td>\n",
       "    </tr>\n",
       "    <tr>\n",
       "      <th>8</th>\n",
       "      <td>region</td>\n",
       "      <td>2.371146</td>\n",
       "    </tr>\n",
       "  </tbody>\n",
       "</table>\n",
       "</div>"
      ],
      "text/plain": [
       "     Variables  VIF factor\n",
       "0         4046   10.628848\n",
       "1         4225   14.077990\n",
       "2         4770    5.595269\n",
       "3   Small Bags   20.647290\n",
       "4   Large Bags    5.833962\n",
       "5  XLarge Bags    3.517597\n",
       "6         type    1.785626\n",
       "7         year    1.979974\n",
       "8       region    2.371146"
      ]
     },
     "execution_count": 90,
     "metadata": {},
     "output_type": "execute_result"
    }
   ],
   "source": [
    "calc_vif(x1)"
   ]
  },
  {
   "cell_type": "code",
   "execution_count": 91,
   "id": "dd58b573",
   "metadata": {},
   "outputs": [
    {
     "data": {
      "text/html": [
       "<div>\n",
       "<style scoped>\n",
       "    .dataframe tbody tr th:only-of-type {\n",
       "        vertical-align: middle;\n",
       "    }\n",
       "\n",
       "    .dataframe tbody tr th {\n",
       "        vertical-align: top;\n",
       "    }\n",
       "\n",
       "    .dataframe thead th {\n",
       "        text-align: right;\n",
       "    }\n",
       "</style>\n",
       "<table border=\"1\" class=\"dataframe\">\n",
       "  <thead>\n",
       "    <tr style=\"text-align: right;\">\n",
       "      <th></th>\n",
       "      <th>AveragePrice</th>\n",
       "      <th>4046</th>\n",
       "      <th>4225</th>\n",
       "      <th>4770</th>\n",
       "      <th>Small Bags</th>\n",
       "      <th>Large Bags</th>\n",
       "      <th>XLarge Bags</th>\n",
       "      <th>type</th>\n",
       "      <th>year</th>\n",
       "      <th>region</th>\n",
       "    </tr>\n",
       "  </thead>\n",
       "  <tbody>\n",
       "    <tr>\n",
       "      <th>count</th>\n",
       "      <td>18249.000000</td>\n",
       "      <td>1.824900e+04</td>\n",
       "      <td>1.824900e+04</td>\n",
       "      <td>1.824900e+04</td>\n",
       "      <td>1.824900e+04</td>\n",
       "      <td>1.824900e+04</td>\n",
       "      <td>18249.000000</td>\n",
       "      <td>18249.000000</td>\n",
       "      <td>18249.000000</td>\n",
       "      <td>18249.000000</td>\n",
       "    </tr>\n",
       "    <tr>\n",
       "      <th>mean</th>\n",
       "      <td>1.405978</td>\n",
       "      <td>2.930084e+05</td>\n",
       "      <td>2.951546e+05</td>\n",
       "      <td>2.283974e+04</td>\n",
       "      <td>1.821947e+05</td>\n",
       "      <td>5.433809e+04</td>\n",
       "      <td>3106.426507</td>\n",
       "      <td>0.499918</td>\n",
       "      <td>1.147899</td>\n",
       "      <td>26.495644</td>\n",
       "    </tr>\n",
       "    <tr>\n",
       "      <th>std</th>\n",
       "      <td>0.402677</td>\n",
       "      <td>1.264989e+06</td>\n",
       "      <td>1.204120e+06</td>\n",
       "      <td>1.074641e+05</td>\n",
       "      <td>7.461785e+05</td>\n",
       "      <td>2.439660e+05</td>\n",
       "      <td>17692.894652</td>\n",
       "      <td>0.500014</td>\n",
       "      <td>0.939938</td>\n",
       "      <td>15.583788</td>\n",
       "    </tr>\n",
       "    <tr>\n",
       "      <th>min</th>\n",
       "      <td>0.440000</td>\n",
       "      <td>0.000000e+00</td>\n",
       "      <td>0.000000e+00</td>\n",
       "      <td>0.000000e+00</td>\n",
       "      <td>0.000000e+00</td>\n",
       "      <td>0.000000e+00</td>\n",
       "      <td>0.000000</td>\n",
       "      <td>0.000000</td>\n",
       "      <td>0.000000</td>\n",
       "      <td>0.000000</td>\n",
       "    </tr>\n",
       "    <tr>\n",
       "      <th>25%</th>\n",
       "      <td>1.100000</td>\n",
       "      <td>8.540700e+02</td>\n",
       "      <td>3.008780e+03</td>\n",
       "      <td>0.000000e+00</td>\n",
       "      <td>2.849420e+03</td>\n",
       "      <td>1.274700e+02</td>\n",
       "      <td>0.000000</td>\n",
       "      <td>0.000000</td>\n",
       "      <td>0.000000</td>\n",
       "      <td>13.000000</td>\n",
       "    </tr>\n",
       "    <tr>\n",
       "      <th>50%</th>\n",
       "      <td>1.370000</td>\n",
       "      <td>8.645300e+03</td>\n",
       "      <td>2.906102e+04</td>\n",
       "      <td>1.849900e+02</td>\n",
       "      <td>2.636282e+04</td>\n",
       "      <td>2.647710e+03</td>\n",
       "      <td>0.000000</td>\n",
       "      <td>0.000000</td>\n",
       "      <td>1.000000</td>\n",
       "      <td>26.000000</td>\n",
       "    </tr>\n",
       "    <tr>\n",
       "      <th>75%</th>\n",
       "      <td>1.660000</td>\n",
       "      <td>1.110202e+05</td>\n",
       "      <td>1.502069e+05</td>\n",
       "      <td>6.243420e+03</td>\n",
       "      <td>8.333767e+04</td>\n",
       "      <td>2.202925e+04</td>\n",
       "      <td>132.500000</td>\n",
       "      <td>1.000000</td>\n",
       "      <td>2.000000</td>\n",
       "      <td>40.000000</td>\n",
       "    </tr>\n",
       "    <tr>\n",
       "      <th>max</th>\n",
       "      <td>3.250000</td>\n",
       "      <td>2.274362e+07</td>\n",
       "      <td>2.047057e+07</td>\n",
       "      <td>2.546439e+06</td>\n",
       "      <td>1.338459e+07</td>\n",
       "      <td>5.719097e+06</td>\n",
       "      <td>551693.650000</td>\n",
       "      <td>1.000000</td>\n",
       "      <td>3.000000</td>\n",
       "      <td>53.000000</td>\n",
       "    </tr>\n",
       "  </tbody>\n",
       "</table>\n",
       "</div>"
      ],
      "text/plain": [
       "       AveragePrice          4046          4225          4770    Small Bags  \\\n",
       "count  18249.000000  1.824900e+04  1.824900e+04  1.824900e+04  1.824900e+04   \n",
       "mean       1.405978  2.930084e+05  2.951546e+05  2.283974e+04  1.821947e+05   \n",
       "std        0.402677  1.264989e+06  1.204120e+06  1.074641e+05  7.461785e+05   \n",
       "min        0.440000  0.000000e+00  0.000000e+00  0.000000e+00  0.000000e+00   \n",
       "25%        1.100000  8.540700e+02  3.008780e+03  0.000000e+00  2.849420e+03   \n",
       "50%        1.370000  8.645300e+03  2.906102e+04  1.849900e+02  2.636282e+04   \n",
       "75%        1.660000  1.110202e+05  1.502069e+05  6.243420e+03  8.333767e+04   \n",
       "max        3.250000  2.274362e+07  2.047057e+07  2.546439e+06  1.338459e+07   \n",
       "\n",
       "         Large Bags    XLarge Bags          type          year        region  \n",
       "count  1.824900e+04   18249.000000  18249.000000  18249.000000  18249.000000  \n",
       "mean   5.433809e+04    3106.426507      0.499918      1.147899     26.495644  \n",
       "std    2.439660e+05   17692.894652      0.500014      0.939938     15.583788  \n",
       "min    0.000000e+00       0.000000      0.000000      0.000000      0.000000  \n",
       "25%    1.274700e+02       0.000000      0.000000      0.000000     13.000000  \n",
       "50%    2.647710e+03       0.000000      0.000000      1.000000     26.000000  \n",
       "75%    2.202925e+04     132.500000      1.000000      2.000000     40.000000  \n",
       "max    5.719097e+06  551693.650000      1.000000      3.000000     53.000000  "
      ]
     },
     "execution_count": 91,
     "metadata": {},
     "output_type": "execute_result"
    }
   ],
   "source": [
    "df.describe()"
   ]
  },
  {
   "cell_type": "code",
   "execution_count": 92,
   "id": "8fa0fbfb",
   "metadata": {},
   "outputs": [
    {
     "data": {
      "text/plain": [
       "AveragePrice     0.580303\n",
       "4046             8.648220\n",
       "4225             8.942466\n",
       "4770            10.159396\n",
       "Small Bags       9.540660\n",
       "Large Bags       9.796455\n",
       "XLarge Bags     13.139751\n",
       "type             0.000329\n",
       "year             0.215339\n",
       "region           0.000030\n",
       "dtype: float64"
      ]
     },
     "execution_count": 92,
     "metadata": {},
     "output_type": "execute_result"
    }
   ],
   "source": [
    "df.skew()"
   ]
  },
  {
   "cell_type": "code",
   "execution_count": 93,
   "id": "a2abc544",
   "metadata": {},
   "outputs": [
    {
     "data": {
      "text/plain": [
       "<AxesSubplot:>"
      ]
     },
     "execution_count": 93,
     "metadata": {},
     "output_type": "execute_result"
    },
    {
     "data": {
      "image/png": "[encoded data removed]",
      "text/plain": [
       "<Figure size 720x720 with 2 Axes>"
      ]
     },
     "metadata": {
      "needs_background": "light"
     },
     "output_type": "display_data"
    }
   ],
   "source": [
    "plt.figure(figsize=(10,10))\n",
    "sns.heatmap(df.corr(),annot=True)"
   ]
  },
  {
   "cell_type": "code",
   "execution_count": 94,
   "id": "77a8fd70",
   "metadata": {},
   "outputs": [
    {
     "data": {
      "text/html": [
       "<div>\n",
       "<style scoped>\n",
       "    .dataframe tbody tr th:only-of-type {\n",
       "        vertical-align: middle;\n",
       "    }\n",
       "\n",
       "    .dataframe tbody tr th {\n",
       "        vertical-align: top;\n",
       "    }\n",
       "\n",
       "    .dataframe thead th {\n",
       "        text-align: right;\n",
       "    }\n",
       "</style>\n",
       "<table border=\"1\" class=\"dataframe\">\n",
       "  <thead>\n",
       "    <tr style=\"text-align: right;\">\n",
       "      <th></th>\n",
       "      <th>0</th>\n",
       "      <th>1</th>\n",
       "      <th>2</th>\n",
       "      <th>3</th>\n",
       "      <th>4</th>\n",
       "      <th>5</th>\n",
       "      <th>6</th>\n",
       "      <th>7</th>\n",
       "      <th>8</th>\n",
       "      <th>9</th>\n",
       "    </tr>\n",
       "  </thead>\n",
       "  <tbody>\n",
       "    <tr>\n",
       "      <th>0</th>\n",
       "      <td>-0.188689</td>\n",
       "      <td>-0.230816</td>\n",
       "      <td>-0.199902</td>\n",
       "      <td>-0.212091</td>\n",
       "      <td>-0.232647</td>\n",
       "      <td>-0.222352</td>\n",
       "      <td>-0.17558</td>\n",
       "      <td>-0.999836</td>\n",
       "      <td>-1.221282</td>\n",
       "      <td>-1.700252</td>\n",
       "    </tr>\n",
       "    <tr>\n",
       "      <th>1</th>\n",
       "      <td>-0.139020</td>\n",
       "      <td>-0.231103</td>\n",
       "      <td>-0.208054</td>\n",
       "      <td>-0.211997</td>\n",
       "      <td>-0.231568</td>\n",
       "      <td>-0.222335</td>\n",
       "      <td>-0.17558</td>\n",
       "      <td>-0.999836</td>\n",
       "      <td>-1.221282</td>\n",
       "      <td>-1.700252</td>\n",
       "    </tr>\n",
       "    <tr>\n",
       "      <th>2</th>\n",
       "      <td>-1.182069</td>\n",
       "      <td>-0.231007</td>\n",
       "      <td>-0.154478</td>\n",
       "      <td>-0.211325</td>\n",
       "      <td>-0.233399</td>\n",
       "      <td>-0.222311</td>\n",
       "      <td>-0.17558</td>\n",
       "      <td>-0.999836</td>\n",
       "      <td>-1.221282</td>\n",
       "      <td>-1.700252</td>\n",
       "    </tr>\n",
       "    <tr>\n",
       "      <th>3</th>\n",
       "      <td>-0.809551</td>\n",
       "      <td>-0.230741</td>\n",
       "      <td>-0.185350</td>\n",
       "      <td>-0.211864</td>\n",
       "      <td>-0.236568</td>\n",
       "      <td>-0.222186</td>\n",
       "      <td>-0.17558</td>\n",
       "      <td>-0.999836</td>\n",
       "      <td>-1.221282</td>\n",
       "      <td>-1.700252</td>\n",
       "    </tr>\n",
       "    <tr>\n",
       "      <th>4</th>\n",
       "      <td>-0.312861</td>\n",
       "      <td>-0.230891</td>\n",
       "      <td>-0.208719</td>\n",
       "      <td>-0.211834</td>\n",
       "      <td>-0.236154</td>\n",
       "      <td>-0.221924</td>\n",
       "      <td>-0.17558</td>\n",
       "      <td>-0.999836</td>\n",
       "      <td>-1.221282</td>\n",
       "      <td>-1.700252</td>\n",
       "    </tr>\n",
       "    <tr>\n",
       "      <th>...</th>\n",
       "      <td>...</td>\n",
       "      <td>...</td>\n",
       "      <td>...</td>\n",
       "      <td>...</td>\n",
       "      <td>...</td>\n",
       "      <td>...</td>\n",
       "      <td>...</td>\n",
       "      <td>...</td>\n",
       "      <td>...</td>\n",
       "      <td>...</td>\n",
       "    </tr>\n",
       "    <tr>\n",
       "      <th>18244</th>\n",
       "      <td>0.556347</td>\n",
       "      <td>-0.230017</td>\n",
       "      <td>-0.243857</td>\n",
       "      <td>-0.212540</td>\n",
       "      <td>-0.226665</td>\n",
       "      <td>-0.220964</td>\n",
       "      <td>-0.17558</td>\n",
       "      <td>1.000164</td>\n",
       "      <td>1.970504</td>\n",
       "      <td>1.700811</td>\n",
       "    </tr>\n",
       "    <tr>\n",
       "      <th>18245</th>\n",
       "      <td>0.755023</td>\n",
       "      <td>-0.230693</td>\n",
       "      <td>-0.242277</td>\n",
       "      <td>-0.212540</td>\n",
       "      <td>-0.232196</td>\n",
       "      <td>-0.221403</td>\n",
       "      <td>-0.17558</td>\n",
       "      <td>1.000164</td>\n",
       "      <td>1.970504</td>\n",
       "      <td>1.700811</td>\n",
       "    </tr>\n",
       "    <tr>\n",
       "      <th>18246</th>\n",
       "      <td>1.152375</td>\n",
       "      <td>-0.230693</td>\n",
       "      <td>-0.243090</td>\n",
       "      <td>-0.205766</td>\n",
       "      <td>-0.231644</td>\n",
       "      <td>-0.222561</td>\n",
       "      <td>-0.17558</td>\n",
       "      <td>1.000164</td>\n",
       "      <td>1.970504</td>\n",
       "      <td>1.700811</td>\n",
       "    </tr>\n",
       "    <tr>\n",
       "      <th>18247</th>\n",
       "      <td>1.301382</td>\n",
       "      <td>-0.230428</td>\n",
       "      <td>-0.242651</td>\n",
       "      <td>-0.205774</td>\n",
       "      <td>-0.229543</td>\n",
       "      <td>-0.222529</td>\n",
       "      <td>-0.17558</td>\n",
       "      <td>1.000164</td>\n",
       "      <td>1.970504</td>\n",
       "      <td>1.700811</td>\n",
       "    </tr>\n",
       "    <tr>\n",
       "      <th>18248</th>\n",
       "      <td>0.531512</td>\n",
       "      <td>-0.229347</td>\n",
       "      <td>-0.243170</td>\n",
       "      <td>-0.210450</td>\n",
       "      <td>-0.228111</td>\n",
       "      <td>-0.222628</td>\n",
       "      <td>-0.17558</td>\n",
       "      <td>1.000164</td>\n",
       "      <td>1.970504</td>\n",
       "      <td>1.700811</td>\n",
       "    </tr>\n",
       "  </tbody>\n",
       "</table>\n",
       "<p>18249 rows × 10 columns</p>\n",
       "</div>"
      ],
      "text/plain": [
       "              0         1         2         3         4         5        6  \\\n",
       "0     -0.188689 -0.230816 -0.199902 -0.212091 -0.232647 -0.222352 -0.17558   \n",
       "1     -0.139020 -0.231103 -0.208054 -0.211997 -0.231568 -0.222335 -0.17558   \n",
       "2     -1.182069 -0.231007 -0.154478 -0.211325 -0.233399 -0.222311 -0.17558   \n",
       "3     -0.809551 -0.230741 -0.185350 -0.211864 -0.236568 -0.222186 -0.17558   \n",
       "4     -0.312861 -0.230891 -0.208719 -0.211834 -0.236154 -0.221924 -0.17558   \n",
       "...         ...       ...       ...       ...       ...       ...      ...   \n",
       "18244  0.556347 -0.230017 -0.243857 -0.212540 -0.226665 -0.220964 -0.17558   \n",
       "18245  0.755023 -0.230693 -0.242277 -0.212540 -0.232196 -0.221403 -0.17558   \n",
       "18246  1.152375 -0.230693 -0.243090 -0.205766 -0.231644 -0.222561 -0.17558   \n",
       "18247  1.301382 -0.230428 -0.242651 -0.205774 -0.229543 -0.222529 -0.17558   \n",
       "18248  0.531512 -0.229347 -0.243170 -0.210450 -0.228111 -0.222628 -0.17558   \n",
       "\n",
       "              7         8         9  \n",
       "0     -0.999836 -1.221282 -1.700252  \n",
       "1     -0.999836 -1.221282 -1.700252  \n",
       "2     -0.999836 -1.221282 -1.700252  \n",
       "3     -0.999836 -1.221282 -1.700252  \n",
       "4     -0.999836 -1.221282 -1.700252  \n",
       "...         ...       ...       ...  \n",
       "18244  1.000164  1.970504  1.700811  \n",
       "18245  1.000164  1.970504  1.700811  \n",
       "18246  1.000164  1.970504  1.700811  \n",
       "18247  1.000164  1.970504  1.700811  \n",
       "18248  1.000164  1.970504  1.700811  \n",
       "\n",
       "[18249 rows x 10 columns]"
      ]
     },
     "execution_count": 94,
     "metadata": {},
     "output_type": "execute_result"
    }
   ],
   "source": [
    "from sklearn.preprocessing import StandardScaler\n",
    "sc= StandardScaler()\n",
    "sc.fit(df)\n",
    "sc_scale=sc.transform(df)\n",
    "\n",
    "\n",
    "spca=pd.DataFrame(data=sc_scale)\n",
    "spca"
   ]
  },
  {
   "cell_type": "code",
   "execution_count": 95,
   "id": "0c697df4",
   "metadata": {},
   "outputs": [
    {
     "data": {
      "text/html": [
       "<div>\n",
       "<style scoped>\n",
       "    .dataframe tbody tr th:only-of-type {\n",
       "        vertical-align: middle;\n",
       "    }\n",
       "\n",
       "    .dataframe tbody tr th {\n",
       "        vertical-align: top;\n",
       "    }\n",
       "\n",
       "    .dataframe thead th {\n",
       "        text-align: right;\n",
       "    }\n",
       "</style>\n",
       "<table border=\"1\" class=\"dataframe\">\n",
       "  <thead>\n",
       "    <tr style=\"text-align: right;\">\n",
       "      <th></th>\n",
       "      <th>0</th>\n",
       "      <th>1</th>\n",
       "      <th>2</th>\n",
       "    </tr>\n",
       "  </thead>\n",
       "  <tbody>\n",
       "    <tr>\n",
       "      <th>0</th>\n",
       "      <td>-0.561300</td>\n",
       "      <td>-1.744874</td>\n",
       "      <td>1.469624</td>\n",
       "    </tr>\n",
       "    <tr>\n",
       "      <th>1</th>\n",
       "      <td>-0.564331</td>\n",
       "      <td>-1.744277</td>\n",
       "      <td>1.469666</td>\n",
       "    </tr>\n",
       "    <tr>\n",
       "      <th>2</th>\n",
       "      <td>-0.542351</td>\n",
       "      <td>-1.748062</td>\n",
       "      <td>1.469520</td>\n",
       "    </tr>\n",
       "    <tr>\n",
       "      <th>3</th>\n",
       "      <td>-0.556696</td>\n",
       "      <td>-1.746035</td>\n",
       "      <td>1.469564</td>\n",
       "    </tr>\n",
       "    <tr>\n",
       "      <th>4</th>\n",
       "      <td>-0.566259</td>\n",
       "      <td>-1.744408</td>\n",
       "      <td>1.469630</td>\n",
       "    </tr>\n",
       "    <tr>\n",
       "      <th>...</th>\n",
       "      <td>...</td>\n",
       "      <td>...</td>\n",
       "      <td>...</td>\n",
       "    </tr>\n",
       "    <tr>\n",
       "      <th>18244</th>\n",
       "      <td>-0.470672</td>\n",
       "      <td>2.442725</td>\n",
       "      <td>-1.238460</td>\n",
       "    </tr>\n",
       "    <tr>\n",
       "      <th>18245</th>\n",
       "      <td>-0.472838</td>\n",
       "      <td>2.442368</td>\n",
       "      <td>-1.238437</td>\n",
       "    </tr>\n",
       "    <tr>\n",
       "      <th>18246</th>\n",
       "      <td>-0.470755</td>\n",
       "      <td>2.441556</td>\n",
       "      <td>-1.238176</td>\n",
       "    </tr>\n",
       "    <tr>\n",
       "      <th>18247</th>\n",
       "      <td>-0.469551</td>\n",
       "      <td>2.441608</td>\n",
       "      <td>-1.238183</td>\n",
       "    </tr>\n",
       "    <tr>\n",
       "      <th>18248</th>\n",
       "      <td>-0.470568</td>\n",
       "      <td>2.442196</td>\n",
       "      <td>-1.238365</td>\n",
       "    </tr>\n",
       "  </tbody>\n",
       "</table>\n",
       "<p>18249 rows × 3 columns</p>\n",
       "</div>"
      ],
      "text/plain": [
       "              0         1         2\n",
       "0     -0.561300 -1.744874  1.469624\n",
       "1     -0.564331 -1.744277  1.469666\n",
       "2     -0.542351 -1.748062  1.469520\n",
       "3     -0.556696 -1.746035  1.469564\n",
       "4     -0.566259 -1.744408  1.469630\n",
       "...         ...       ...       ...\n",
       "18244 -0.470672  2.442725 -1.238460\n",
       "18245 -0.472838  2.442368 -1.238437\n",
       "18246 -0.470755  2.441556 -1.238176\n",
       "18247 -0.469551  2.441608 -1.238183\n",
       "18248 -0.470568  2.442196 -1.238365\n",
       "\n",
       "[18249 rows x 3 columns]"
      ]
     },
     "execution_count": 95,
     "metadata": {},
     "output_type": "execute_result"
    }
   ],
   "source": [
    "from sklearn.decomposition import PCA\n",
    "\n",
    "x2=sc_scale[:,1:]\n",
    "y2=sc_scale[:,0]\n",
    "pca_=PCA(n_components=3)\n",
    "pca_.fit(x2)\n",
    "x2_pca=pca_.transform(x2)\n",
    "s_pca=pd.DataFrame(data=x2_pca)\n",
    "s_pca"
   ]
  },
  {
   "cell_type": "code",
   "execution_count": 96,
   "id": "2701ac42",
   "metadata": {},
   "outputs": [
    {
     "data": {
      "text/plain": [
       "0        1.33\n",
       "1        1.35\n",
       "2        0.93\n",
       "3        1.08\n",
       "4        1.28\n",
       "         ... \n",
       "18244    1.63\n",
       "18245    1.71\n",
       "18246    1.87\n",
       "18247    1.93\n",
       "18248    1.62\n",
       "Name: AveragePrice, Length: 18249, dtype: float64"
      ]
     },
     "execution_count": 96,
     "metadata": {},
     "output_type": "execute_result"
    }
   ],
   "source": [
    "x=df.drop('AveragePrice',axis=1)\n",
    "y=df['AveragePrice']\n",
    "y"
   ]
  },
  {
   "cell_type": "markdown",
   "id": "9e7ca422",
   "metadata": {},
   "source": [
    "### MACHINE LEARNING PHASE"
   ]
  },
  {
   "cell_type": "code",
   "execution_count": 97,
   "id": "1b6a2111",
   "metadata": {},
   "outputs": [],
   "source": [
    "x_train,x_test,y_train,y_test=train_test_split(x2,y2,test_size=.33,random_state=101)"
   ]
  },
  {
   "cell_type": "code",
   "execution_count": 98,
   "id": "09cc0dff",
   "metadata": {},
   "outputs": [
    {
     "data": {
      "text/plain": [
       "(6023, 9)"
      ]
     },
     "execution_count": 98,
     "metadata": {},
     "output_type": "execute_result"
    }
   ],
   "source": [
    "x_test.shape"
   ]
  },
  {
   "cell_type": "code",
   "execution_count": 100,
   "id": "77ff1356",
   "metadata": {},
   "outputs": [
    {
     "name": "stdout",
     "output_type": "stream",
     "text": [
      "score:  0.4133744987303022\n",
      "mean_squared error:  0.610741326037722\n",
      "mean_absolute_error:  0.5964590795586606\n",
      "r2 score:  0.3928461983342767\n"
     ]
    }
   ],
   "source": [
    "from sklearn.linear_model import LinearRegression,Lasso,Ridge\n",
    "\n",
    "lr=LinearRegression()\n",
    "lr.fit(x_train,y_train)\n",
    "pred_lr=lr.predict(x_test)\n",
    "print('score: ',lr.score(x_train,y_train))\n",
    "print(\"mean_squared error: \",mean_squared_error(y_test,pred_lr))\n",
    "print(\"mean_absolute_error: \",mean_absolute_error(y_test,pred_lr))\n",
    "print(\"r2 score: \",r2_score(y_test,pred_lr))"
   ]
  },
  {
   "cell_type": "markdown",
   "id": "dfdb961e",
   "metadata": {},
   "source": [
    "Linear Regression Model performed Poorly"
   ]
  },
  {
   "cell_type": "code",
   "execution_count": 101,
   "id": "17c911e0",
   "metadata": {},
   "outputs": [
    {
     "data": {
      "text/plain": [
       "12226"
      ]
     },
     "execution_count": 101,
     "metadata": {},
     "output_type": "execute_result"
    }
   ],
   "source": [
    "len(x_train)"
   ]
  },
  {
   "cell_type": "markdown",
   "id": "93fe0a7b",
   "metadata": {},
   "source": [
    "#### L1 and L2 REGULARIZATION"
   ]
  },
  {
   "cell_type": "code",
   "execution_count": 102,
   "id": "4f5cf54a",
   "metadata": {},
   "outputs": [],
   "source": [
    "from sklearn.linear_model import Lasso,Ridge,ElasticNet"
   ]
  },
  {
   "cell_type": "markdown",
   "id": "23182eb0",
   "metadata": {},
   "source": [
    "#### LASSO"
   ]
  },
  {
   "cell_type": "code",
   "execution_count": 103,
   "id": "e3df9aa4",
   "metadata": {},
   "outputs": [
    {
     "name": "stdout",
     "output_type": "stream",
     "text": [
      "score:  0.4133737868506858\n"
     ]
    }
   ],
   "source": [
    "#LASSO\n",
    "ls=Lasso(alpha=0.0001)\n",
    "ls.fit(x_train,y_train)\n",
    "pred_ls=ls.predict(x_test)\n",
    "print(\"score: \",ls.score(x_train,y_train))"
   ]
  },
  {
   "cell_type": "code",
   "execution_count": 104,
   "id": "a95a3b3d",
   "metadata": {
    "scrolled": true
   },
   "outputs": [
    {
     "name": "stdout",
     "output_type": "stream",
     "text": [
      "mean_squared error:  0.610729480443956\n",
      "mean_absolute_error:  0.5964384171550219\n",
      "r2 score:  0.3928579743464464\n"
     ]
    }
   ],
   "source": [
    "print(\"mean_squared error: \",mean_squared_error(y_test,pred_ls))\n",
    "print(\"mean_absolute_error: \",mean_absolute_error(y_test,pred_ls))\n",
    "print(\"r2 score: \",r2_score(y_test,pred_ls))"
   ]
  },
  {
   "cell_type": "markdown",
   "id": "132c2cba",
   "metadata": {},
   "source": [
    "#### Ridge"
   ]
  },
  {
   "cell_type": "code",
   "execution_count": 105,
   "id": "3579c0ff",
   "metadata": {},
   "outputs": [
    {
     "name": "stdout",
     "output_type": "stream",
     "text": [
      "score:  0.41337449873030196\n",
      "mean_squared error:  0.6107413255289686\n",
      "mean_absolute_error:  0.5964590789688443\n",
      "r2 score:  0.39284619884004157\n"
     ]
    }
   ],
   "source": [
    "#RIDGE\n",
    "rg=Ridge(alpha=0.0001)\n",
    "rg.fit(x_train,y_train)\n",
    "pred_rg=rg.predict(x_test)\n",
    "print(\"score: \",rg.score(x_train,y_train))\n",
    "print(\"mean_squared error: \",mean_squared_error(y_test,pred_rg))\n",
    "print(\"mean_absolute_error: \",mean_absolute_error(y_test,pred_rg))\n",
    "print(\"r2 score: \",r2_score(y_test,pred_rg))"
   ]
  },
  {
   "cell_type": "code",
   "execution_count": 106,
   "id": "d27b5b21",
   "metadata": {},
   "outputs": [],
   "source": [
    "#### KNeighbors Regressor"
   ]
  },
  {
   "cell_type": "code",
   "execution_count": 107,
   "id": "2dfe013c",
   "metadata": {},
   "outputs": [
    {
     "name": "stdout",
     "output_type": "stream",
     "text": [
      "score :  0.9007387652170249\n",
      "mean_squared error:  0.17261602808417692\n",
      "mean_absolute_error:  0.2860326685613697\n",
      "r2 score:  0.8283979268937303\n"
     ]
    }
   ],
   "source": [
    "from sklearn.neighbors import KNeighborsRegressor\n",
    "knr=KNeighborsRegressor(n_neighbors=5)\n",
    "knr.fit(x_train,y_train)\n",
    "pred_knr=knr.predict(x_test)\n",
    "print(\"score : \",knr.score(x_train,y_train))\n",
    "print(\"mean_squared error: \",mean_squared_error(y_test,pred_knr))\n",
    "print(\"mean_absolute_error: \",mean_absolute_error(y_test,pred_knr))\n",
    "print(\"r2 score: \",r2_score(y_test,pred_knr))"
   ]
  },
  {
   "cell_type": "markdown",
   "id": "3c9800c1",
   "metadata": {},
   "source": [
    "#### Decision Tree Regressor"
   ]
  },
  {
   "cell_type": "code",
   "execution_count": 108,
   "id": "8d8b7b6c",
   "metadata": {},
   "outputs": [
    {
     "name": "stdout",
     "output_type": "stream",
     "text": [
      "score :  1.0\n",
      "mean_squared error:  0.33006625812122276\n",
      "mean_absolute_error:  0.37932514793054894\n",
      "r2 score:  0.6718725671963081\n"
     ]
    }
   ],
   "source": [
    "from sklearn.tree import DecisionTreeRegressor\n",
    "dtr=DecisionTreeRegressor()\n",
    "dtr.fit(x_train,y_train)\n",
    "pred_dtr=dtr.predict(x_test)\n",
    "print(\"score : \",dtr.score(x_train,y_train))\n",
    "print(\"mean_squared error: \",mean_squared_error(y_test,pred_dtr))\n",
    "print(\"mean_absolute_error: \",mean_absolute_error(y_test,pred_dtr))\n",
    "print(\"r2 score: \",r2_score(y_test,pred_dtr))"
   ]
  },
  {
   "cell_type": "markdown",
   "id": "40860ce2",
   "metadata": {},
   "source": [
    "#### USING GRID SEARCH"
   ]
  },
  {
   "cell_type": "code",
   "execution_count": 111,
   "id": "8029397b",
   "metadata": {},
   "outputs": [
    {
     "name": "stdout",
     "output_type": "stream",
     "text": [
      "0.5093916282367487\n",
      "{'kernel': 'rbf'}\n"
     ]
    }
   ],
   "source": [
    "#SVR\n",
    "svr1=SVR(gamma='auto')\n",
    "paramgrid={'kernel':['rbf','poly','linear']}\n",
    "\n",
    "grid=GridSearchCV(svr1,paramgrid,cv=5)\n",
    "grid.fit(x_train,y_train)\n",
    "print(grid.best_score_)\n",
    "\n",
    "print(grid.best_params_)"
   ]
  },
  {
   "cell_type": "code",
   "execution_count": 112,
   "id": "16ca56f3",
   "metadata": {},
   "outputs": [
    {
     "name": "stdout",
     "output_type": "stream",
     "text": [
      "iteration: 1\n",
      "score :  1.0\n",
      "mean_squared error:  0.22066273391068986\n",
      "mean_absolute_error:  0.30180750823866753\n",
      "r2 score:  0.7806334497633908\n",
      "iteration: 2\n",
      "score :  0.9499559944965197\n",
      "mean_squared error:  0.17604746007022987\n",
      "mean_absolute_error:  0.2810694779817358\n",
      "r2 score:  0.8249866513067222\n",
      "iteration: 3\n",
      "score :  0.9287911668102506\n",
      "mean_squared error:  0.1683682725442101\n",
      "mean_absolute_error:  0.27951568912230895\n",
      "r2 score:  0.8326207309102349\n",
      "iteration: 4\n",
      "score :  0.9138834793505309\n",
      "mean_squared error:  0.1673428735614936\n",
      "mean_absolute_error:  0.2811179265065432\n",
      "r2 score:  0.8336401066492561\n",
      "iteration: 5\n",
      "score :  0.9007387652170249\n",
      "mean_squared error:  0.17261602808417692\n",
      "mean_absolute_error:  0.2860326685613697\n",
      "r2 score:  0.8283979268937303\n",
      "iteration: 6\n",
      "score :  0.8909257672652293\n",
      "mean_squared error:  0.1763158494129241\n",
      "mean_absolute_error:  0.2917418977017262\n",
      "r2 score:  0.8247198384961326\n",
      "iteration: 7\n",
      "score :  0.882185120807042\n",
      "mean_squared error:  0.18164321507094341\n",
      "mean_absolute_error:  0.29815722850332876\n",
      "r2 score:  0.8194237660441268\n",
      "iteration: 8\n",
      "score :  0.8719850210524867\n",
      "mean_squared error:  0.18747310305950635\n",
      "mean_absolute_error:  0.30391914234649764\n",
      "r2 score:  0.8136281231022855\n",
      "iteration: 9\n",
      "score :  0.8633567094115441\n",
      "mean_squared error:  0.1931165054004572\n",
      "mean_absolute_error:  0.30964860991317433\n",
      "r2 score:  0.808017870382256\n"
     ]
    }
   ],
   "source": [
    "for i in range(1,10):\n",
    "    \n",
    "    knr=KNeighborsRegressor(n_neighbors=i)\n",
    "    knr.fit(x_train,y_train)\n",
    "    pred_knr=knr.predict(x_test)\n",
    "    print('iteration:',i)\n",
    "    print(\"score : \",knr.score(x_train,y_train))\n",
    "    print(\"mean_squared error: \",mean_squared_error(y_test,pred_knr))\n",
    "    print(\"mean_absolute_error: \",mean_absolute_error(y_test,pred_knr))\n",
    "    print(\"r2 score: \",r2_score(y_test,pred_knr))"
   ]
  },
  {
   "cell_type": "code",
   "execution_count": 113,
   "id": "10fe93c6",
   "metadata": {},
   "outputs": [
    {
     "name": "stdout",
     "output_type": "stream",
     "text": [
      "score :  0.9499559944965197\n",
      "mean_squared error:  0.17604746007022987\n",
      "mean_absolute_error:  0.2810694779817358\n",
      "r2 score:  0.8249866513067222\n"
     ]
    }
   ],
   "source": [
    "knr=KNeighborsRegressor(n_neighbors=2)\n",
    "knr.fit(x_train,y_train)\n",
    "pred_knr=knr.predict(x_test)\n",
    "\n",
    "print(\"score : \",knr.score(x_train,y_train))\n",
    "print(\"mean_squared error: \",mean_squared_error(y_test,pred_knr))\n",
    "print(\"mean_absolute_error: \",mean_absolute_error(y_test,pred_knr))\n",
    "print(\"r2 score: \",r2_score(y_test,pred_knr))"
   ]
  },
  {
   "cell_type": "code",
   "execution_count": 114,
   "id": "0e421ed4",
   "metadata": {},
   "outputs": [
    {
     "name": "stdout",
     "output_type": "stream",
     "text": [
      "score :  0.4521283324117258\n",
      "mean_squared error:  0.5650665283130113\n",
      "mean_absolute_error:  0.5803567596678213\n",
      "r2 score:  0.4382527000668256\n"
     ]
    }
   ],
   "source": [
    "#random forest regressor\n",
    "from sklearn.ensemble import RandomForestRegressor\n",
    "rf= RandomForestRegressor(max_depth=2,random_state=42)\n",
    "rf.fit(x_train,y_train)\n",
    "pred_rf=rf.predict(x_test)\n",
    "\n",
    "print(\"score : \",rf.score(x_train,y_train))\n",
    "print(\"mean_squared error: \",mean_squared_error(y_test,pred_rf))\n",
    "print(\"mean_absolute_error: \",mean_absolute_error(y_test,pred_rf))\n",
    "print(\"r2 score: \",r2_score(y_test,pred_rf))"
   ]
  },
  {
   "cell_type": "markdown",
   "id": "62abf2d4",
   "metadata": {},
   "source": [
    "THE KNEIGHBORS REGRESSOR PERFORMED THE BEST with n-neighbors as 2 and 3"
   ]
  },
  {
   "cell_type": "code",
   "execution_count": 132,
   "id": "9ef9cf71",
   "metadata": {},
   "outputs": [],
   "source": [
    "import pickle\n",
    "filename='avocado.pkl'\n",
    "pickle.dump(svr1,open(filename,'wb'))"
   ]
  },
  {
   "cell_type": "markdown",
   "id": "d4420b9a",
   "metadata": {},
   "source": [
    "reloading the model"
   ]
  },
  {
   "cell_type": "code",
   "execution_count": 133,
   "id": "5ed91d6c",
   "metadata": {},
   "outputs": [],
   "source": [
    "load_model=pickle.load(open(filename,'rb'))"
   ]
  },
  {
   "cell_type": "markdown",
   "id": "a68b7eaa",
   "metadata": {},
   "source": [
    "CLASSIFICATION APPROACH(PREDICTING THE REGION)"
   ]
  },
  {
   "cell_type": "code",
   "execution_count": 135,
   "id": "8aa96b40",
   "metadata": {},
   "outputs": [
    {
     "data": {
      "text/html": [
       "<div>\n",
       "<style scoped>\n",
       "    .dataframe tbody tr th:only-of-type {\n",
       "        vertical-align: middle;\n",
       "    }\n",
       "\n",
       "    .dataframe tbody tr th {\n",
       "        vertical-align: top;\n",
       "    }\n",
       "\n",
       "    .dataframe thead th {\n",
       "        text-align: right;\n",
       "    }\n",
       "</style>\n",
       "<table border=\"1\" class=\"dataframe\">\n",
       "  <thead>\n",
       "    <tr style=\"text-align: right;\">\n",
       "      <th></th>\n",
       "      <th>AveragePrice</th>\n",
       "      <th>4046</th>\n",
       "      <th>4225</th>\n",
       "      <th>4770</th>\n",
       "      <th>Small Bags</th>\n",
       "      <th>Large Bags</th>\n",
       "      <th>XLarge Bags</th>\n",
       "      <th>type</th>\n",
       "      <th>year</th>\n",
       "      <th>region</th>\n",
       "    </tr>\n",
       "  </thead>\n",
       "  <tbody>\n",
       "    <tr>\n",
       "      <th>0</th>\n",
       "      <td>1.33</td>\n",
       "      <td>1036.74</td>\n",
       "      <td>54454.85</td>\n",
       "      <td>48.16</td>\n",
       "      <td>8603.62</td>\n",
       "      <td>93.25</td>\n",
       "      <td>0.0</td>\n",
       "      <td>0</td>\n",
       "      <td>0</td>\n",
       "      <td>0</td>\n",
       "    </tr>\n",
       "    <tr>\n",
       "      <th>1</th>\n",
       "      <td>1.35</td>\n",
       "      <td>674.28</td>\n",
       "      <td>44638.81</td>\n",
       "      <td>58.33</td>\n",
       "      <td>9408.07</td>\n",
       "      <td>97.49</td>\n",
       "      <td>0.0</td>\n",
       "      <td>0</td>\n",
       "      <td>0</td>\n",
       "      <td>0</td>\n",
       "    </tr>\n",
       "    <tr>\n",
       "      <th>2</th>\n",
       "      <td>0.93</td>\n",
       "      <td>794.70</td>\n",
       "      <td>109149.67</td>\n",
       "      <td>130.50</td>\n",
       "      <td>8042.21</td>\n",
       "      <td>103.14</td>\n",
       "      <td>0.0</td>\n",
       "      <td>0</td>\n",
       "      <td>0</td>\n",
       "      <td>0</td>\n",
       "    </tr>\n",
       "    <tr>\n",
       "      <th>3</th>\n",
       "      <td>1.08</td>\n",
       "      <td>1132.00</td>\n",
       "      <td>71976.41</td>\n",
       "      <td>72.58</td>\n",
       "      <td>5677.40</td>\n",
       "      <td>133.76</td>\n",
       "      <td>0.0</td>\n",
       "      <td>0</td>\n",
       "      <td>0</td>\n",
       "      <td>0</td>\n",
       "    </tr>\n",
       "    <tr>\n",
       "      <th>4</th>\n",
       "      <td>1.28</td>\n",
       "      <td>941.48</td>\n",
       "      <td>43838.39</td>\n",
       "      <td>75.78</td>\n",
       "      <td>5986.26</td>\n",
       "      <td>197.69</td>\n",
       "      <td>0.0</td>\n",
       "      <td>0</td>\n",
       "      <td>0</td>\n",
       "      <td>0</td>\n",
       "    </tr>\n",
       "    <tr>\n",
       "      <th>...</th>\n",
       "      <td>...</td>\n",
       "      <td>...</td>\n",
       "      <td>...</td>\n",
       "      <td>...</td>\n",
       "      <td>...</td>\n",
       "      <td>...</td>\n",
       "      <td>...</td>\n",
       "      <td>...</td>\n",
       "      <td>...</td>\n",
       "      <td>...</td>\n",
       "    </tr>\n",
       "    <tr>\n",
       "      <th>18244</th>\n",
       "      <td>1.63</td>\n",
       "      <td>2046.96</td>\n",
       "      <td>1529.20</td>\n",
       "      <td>0.00</td>\n",
       "      <td>13066.82</td>\n",
       "      <td>431.85</td>\n",
       "      <td>0.0</td>\n",
       "      <td>1</td>\n",
       "      <td>3</td>\n",
       "      <td>53</td>\n",
       "    </tr>\n",
       "    <tr>\n",
       "      <th>18245</th>\n",
       "      <td>1.71</td>\n",
       "      <td>1191.70</td>\n",
       "      <td>3431.50</td>\n",
       "      <td>0.00</td>\n",
       "      <td>8940.04</td>\n",
       "      <td>324.80</td>\n",
       "      <td>0.0</td>\n",
       "      <td>1</td>\n",
       "      <td>3</td>\n",
       "      <td>53</td>\n",
       "    </tr>\n",
       "    <tr>\n",
       "      <th>18246</th>\n",
       "      <td>1.87</td>\n",
       "      <td>1191.92</td>\n",
       "      <td>2452.79</td>\n",
       "      <td>727.94</td>\n",
       "      <td>9351.80</td>\n",
       "      <td>42.31</td>\n",
       "      <td>0.0</td>\n",
       "      <td>1</td>\n",
       "      <td>3</td>\n",
       "      <td>53</td>\n",
       "    </tr>\n",
       "    <tr>\n",
       "      <th>18247</th>\n",
       "      <td>1.93</td>\n",
       "      <td>1527.63</td>\n",
       "      <td>2981.04</td>\n",
       "      <td>727.01</td>\n",
       "      <td>10919.54</td>\n",
       "      <td>50.00</td>\n",
       "      <td>0.0</td>\n",
       "      <td>1</td>\n",
       "      <td>3</td>\n",
       "      <td>53</td>\n",
       "    </tr>\n",
       "    <tr>\n",
       "      <th>18248</th>\n",
       "      <td>1.62</td>\n",
       "      <td>2894.77</td>\n",
       "      <td>2356.13</td>\n",
       "      <td>224.53</td>\n",
       "      <td>11988.14</td>\n",
       "      <td>26.01</td>\n",
       "      <td>0.0</td>\n",
       "      <td>1</td>\n",
       "      <td>3</td>\n",
       "      <td>53</td>\n",
       "    </tr>\n",
       "  </tbody>\n",
       "</table>\n",
       "<p>18249 rows × 10 columns</p>\n",
       "</div>"
      ],
      "text/plain": [
       "       AveragePrice     4046       4225    4770  Small Bags  Large Bags  \\\n",
       "0              1.33  1036.74   54454.85   48.16     8603.62       93.25   \n",
       "1              1.35   674.28   44638.81   58.33     9408.07       97.49   \n",
       "2              0.93   794.70  109149.67  130.50     8042.21      103.14   \n",
       "3              1.08  1132.00   71976.41   72.58     5677.40      133.76   \n",
       "4              1.28   941.48   43838.39   75.78     5986.26      197.69   \n",
       "...             ...      ...        ...     ...         ...         ...   \n",
       "18244          1.63  2046.96    1529.20    0.00    13066.82      431.85   \n",
       "18245          1.71  1191.70    3431.50    0.00     8940.04      324.80   \n",
       "18246          1.87  1191.92    2452.79  727.94     9351.80       42.31   \n",
       "18247          1.93  1527.63    2981.04  727.01    10919.54       50.00   \n",
       "18248          1.62  2894.77    2356.13  224.53    11988.14       26.01   \n",
       "\n",
       "       XLarge Bags  type  year  region  \n",
       "0              0.0     0     0       0  \n",
       "1              0.0     0     0       0  \n",
       "2              0.0     0     0       0  \n",
       "3              0.0     0     0       0  \n",
       "4              0.0     0     0       0  \n",
       "...            ...   ...   ...     ...  \n",
       "18244          0.0     1     3      53  \n",
       "18245          0.0     1     3      53  \n",
       "18246          0.0     1     3      53  \n",
       "18247          0.0     1     3      53  \n",
       "18248          0.0     1     3      53  \n",
       "\n",
       "[18249 rows x 10 columns]"
      ]
     },
     "execution_count": 135,
     "metadata": {},
     "output_type": "execute_result"
    }
   ],
   "source": [
    "df"
   ]
  },
  {
   "cell_type": "code",
   "execution_count": 136,
   "id": "3e49d73f",
   "metadata": {},
   "outputs": [
    {
     "data": {
      "text/html": [
       "<div>\n",
       "<style scoped>\n",
       "    .dataframe tbody tr th:only-of-type {\n",
       "        vertical-align: middle;\n",
       "    }\n",
       "\n",
       "    .dataframe tbody tr th {\n",
       "        vertical-align: top;\n",
       "    }\n",
       "\n",
       "    .dataframe thead th {\n",
       "        text-align: right;\n",
       "    }\n",
       "</style>\n",
       "<table border=\"1\" class=\"dataframe\">\n",
       "  <thead>\n",
       "    <tr style=\"text-align: right;\">\n",
       "      <th></th>\n",
       "      <th>AveragePrice</th>\n",
       "      <th>4046</th>\n",
       "      <th>4225</th>\n",
       "      <th>4770</th>\n",
       "      <th>Small Bags</th>\n",
       "      <th>Large Bags</th>\n",
       "      <th>XLarge Bags</th>\n",
       "      <th>type</th>\n",
       "      <th>year</th>\n",
       "      <th>region</th>\n",
       "    </tr>\n",
       "  </thead>\n",
       "  <tbody>\n",
       "    <tr>\n",
       "      <th>0</th>\n",
       "      <td>1.33</td>\n",
       "      <td>1036.74</td>\n",
       "      <td>54454.85</td>\n",
       "      <td>48.16</td>\n",
       "      <td>8603.62</td>\n",
       "      <td>93.25</td>\n",
       "      <td>0.0</td>\n",
       "      <td>0</td>\n",
       "      <td>0</td>\n",
       "      <td>0</td>\n",
       "    </tr>\n",
       "    <tr>\n",
       "      <th>1</th>\n",
       "      <td>1.35</td>\n",
       "      <td>674.28</td>\n",
       "      <td>44638.81</td>\n",
       "      <td>58.33</td>\n",
       "      <td>9408.07</td>\n",
       "      <td>97.49</td>\n",
       "      <td>0.0</td>\n",
       "      <td>0</td>\n",
       "      <td>0</td>\n",
       "      <td>0</td>\n",
       "    </tr>\n",
       "    <tr>\n",
       "      <th>2</th>\n",
       "      <td>0.93</td>\n",
       "      <td>794.70</td>\n",
       "      <td>109149.67</td>\n",
       "      <td>130.50</td>\n",
       "      <td>8042.21</td>\n",
       "      <td>103.14</td>\n",
       "      <td>0.0</td>\n",
       "      <td>0</td>\n",
       "      <td>0</td>\n",
       "      <td>0</td>\n",
       "    </tr>\n",
       "    <tr>\n",
       "      <th>3</th>\n",
       "      <td>1.08</td>\n",
       "      <td>1132.00</td>\n",
       "      <td>71976.41</td>\n",
       "      <td>72.58</td>\n",
       "      <td>5677.40</td>\n",
       "      <td>133.76</td>\n",
       "      <td>0.0</td>\n",
       "      <td>0</td>\n",
       "      <td>0</td>\n",
       "      <td>0</td>\n",
       "    </tr>\n",
       "    <tr>\n",
       "      <th>4</th>\n",
       "      <td>1.28</td>\n",
       "      <td>941.48</td>\n",
       "      <td>43838.39</td>\n",
       "      <td>75.78</td>\n",
       "      <td>5986.26</td>\n",
       "      <td>197.69</td>\n",
       "      <td>0.0</td>\n",
       "      <td>0</td>\n",
       "      <td>0</td>\n",
       "      <td>0</td>\n",
       "    </tr>\n",
       "  </tbody>\n",
       "</table>\n",
       "</div>"
      ],
      "text/plain": [
       "   AveragePrice     4046       4225    4770  Small Bags  Large Bags  \\\n",
       "0          1.33  1036.74   54454.85   48.16     8603.62       93.25   \n",
       "1          1.35   674.28   44638.81   58.33     9408.07       97.49   \n",
       "2          0.93   794.70  109149.67  130.50     8042.21      103.14   \n",
       "3          1.08  1132.00   71976.41   72.58     5677.40      133.76   \n",
       "4          1.28   941.48   43838.39   75.78     5986.26      197.69   \n",
       "\n",
       "   XLarge Bags  type  year  region  \n",
       "0          0.0     0     0       0  \n",
       "1          0.0     0     0       0  \n",
       "2          0.0     0     0       0  \n",
       "3          0.0     0     0       0  \n",
       "4          0.0     0     0       0  "
      ]
     },
     "execution_count": 136,
     "metadata": {},
     "output_type": "execute_result"
    }
   ],
   "source": [
    "df2=pd.DataFrame(df)\n",
    "df2.head()"
   ]
  },
  {
   "cell_type": "code",
   "execution_count": 139,
   "id": "be40beb5",
   "metadata": {},
   "outputs": [
    {
     "data": {
      "text/plain": [
       "54"
      ]
     },
     "execution_count": 139,
     "metadata": {},
     "output_type": "execute_result"
    }
   ],
   "source": [
    "list=['type','year','region']\n",
    "for i in list:\n",
    "    df2[i]=le.fit_transform(df2[i])\n",
    "df2[i].nunique()"
   ]
  },
  {
   "cell_type": "code",
   "execution_count": 140,
   "id": "e0dcc494",
   "metadata": {},
   "outputs": [],
   "source": [
    "x=df2.drop('region',axis=1)\n",
    "y=df2['region']\n",
    "x_train,x_test,y_train,y_test=train_test_split(x,y,test_size=.33,random_state=42)"
   ]
  },
  {
   "cell_type": "code",
   "execution_count": 141,
   "id": "9fe0636f",
   "metadata": {},
   "outputs": [
    {
     "data": {
      "text/plain": [
       "(18249,)"
      ]
     },
     "execution_count": 141,
     "metadata": {},
     "output_type": "execute_result"
    }
   ],
   "source": [
    "y.shape"
   ]
  },
  {
   "cell_type": "markdown",
   "id": "b32067ec",
   "metadata": {},
   "source": [
    "#### Logistic Regression"
   ]
  },
  {
   "cell_type": "code",
   "execution_count": 142,
   "id": "da307bd7",
   "metadata": {},
   "outputs": [],
   "source": [
    "#logistic regression\n",
    "from sklearn.linear_model import LogisticRegression\n",
    "from sklearn.metrics import accuracy_score,confusion_matrix,classification_report,roc_auc_score\n",
    "lg=LogisticRegression()"
   ]
  },
  {
   "cell_type": "code",
   "execution_count": 144,
   "id": "616353d2",
   "metadata": {},
   "outputs": [
    {
     "name": "stdout",
     "output_type": "stream",
     "text": [
      "accuracy_score: 0.16353976423709116\n",
      "confusion matrix: [[ 0  0  1 ...  0  0  0]\n",
      " [ 0  4  0 ...  2  4  0]\n",
      " [ 0  0 39 ...  0  0  0]\n",
      " ...\n",
      " [ 0  0  0 ... 73  0  0]\n",
      " [ 0  0  0 ... 16 49  0]\n",
      " [ 0  0  2 ...  2  9 11]]\n",
      "classification report:               precision    recall  f1-score   support\n",
      "\n",
      "           0       0.00      0.00      0.00       106\n",
      "           1       0.09      0.04      0.05       112\n",
      "           2       0.33      0.36      0.35       107\n",
      "           3       0.00      0.00      0.00       108\n",
      "           4       0.18      0.15      0.16       114\n",
      "           5       0.00      0.00      0.00       117\n",
      "           6       0.11      0.38      0.17       108\n",
      "           7       0.00      0.00      0.00       122\n",
      "           8       0.77      0.42      0.54       115\n",
      "           9       0.14      0.61      0.23       123\n",
      "          10       0.00      0.00      0.00       120\n",
      "          11       0.00      0.00      0.00       118\n",
      "          12       0.21      0.53      0.30       105\n",
      "          13       0.33      0.31      0.32       114\n",
      "          14       0.00      0.00      0.00       113\n",
      "          15       0.14      0.43      0.21       115\n",
      "          16       0.00      0.00      0.00       124\n",
      "          17       0.00      0.00      0.00       116\n",
      "          18       0.19      0.08      0.11        97\n",
      "          19       0.00      0.00      0.00       101\n",
      "          20       0.00      0.00      0.00       106\n",
      "          21       0.17      0.01      0.02       105\n",
      "          22       0.12      0.31      0.17       121\n",
      "          23       0.00      0.00      0.00       116\n",
      "          24       0.12      0.04      0.06       118\n",
      "          25       0.16      0.44      0.23       116\n",
      "          26       0.00      0.00      0.00       121\n",
      "          27       0.23      0.33      0.27       111\n",
      "          28       0.08      0.27      0.13       113\n",
      "          29       0.10      0.70      0.17       107\n",
      "          30       0.12      0.23      0.16       103\n",
      "          31       0.00      0.00      0.00       110\n",
      "          32       0.00      0.00      0.00       113\n",
      "          33       0.37      0.31      0.34        91\n",
      "          34       0.00      0.00      0.00        94\n",
      "          35       0.41      0.27      0.32       116\n",
      "          36       0.50      0.01      0.02       127\n",
      "          37       0.00      0.00      0.00       114\n",
      "          38       0.00      0.00      0.00       103\n",
      "          39       0.00      0.00      0.00       122\n",
      "          40       0.40      0.07      0.12       111\n",
      "          41       0.00      0.00      0.00       132\n",
      "          42       0.25      0.54      0.34       128\n",
      "          43       0.00      0.00      0.00        98\n",
      "          44       0.00      0.00      0.00       109\n",
      "          45       0.20      0.36      0.26        99\n",
      "          46       0.10      0.37      0.16        92\n",
      "          47       0.00      0.00      0.00       128\n",
      "          48       0.03      0.11      0.05       102\n",
      "          49       0.00      0.00      0.00       110\n",
      "          50       0.00      0.00      0.00       111\n",
      "          51       0.31      0.66      0.42       110\n",
      "          52       0.32      0.49      0.38       101\n",
      "          53       0.15      0.10      0.12       110\n",
      "\n",
      "    accuracy                           0.16      6023\n",
      "   macro avg       0.12      0.17      0.11      6023\n",
      "weighted avg       0.12      0.16      0.11      6023\n",
      "\n"
     ]
    }
   ],
   "source": [
    "lg.fit(x_train,y_train)\n",
    "pred_lg=lg.predict(x_test)\n",
    "print('accuracy_score:',accuracy_score(y_test,pred_lg))\n",
    "print(\"confusion matrix:\",confusion_matrix(y_test,pred_lg))\n",
    "print(\"classification report:\",classification_report(y_test,pred_lg))"
   ]
  },
  {
   "cell_type": "code",
   "execution_count": 146,
   "id": "a28408e5",
   "metadata": {},
   "outputs": [
    {
     "name": "stdout",
     "output_type": "stream",
     "text": [
      "accuracy_score: 0.7919641374730201\n",
      "confusion matrix: [[ 87   0   0 ...   0   0   0]\n",
      " [  0  81   0 ...   0   0   5]\n",
      " [  0   0  95 ...   0   0   3]\n",
      " ...\n",
      " [  0   0   0 ... 110   0   0]\n",
      " [  0   0   0 ...   0  97   0]\n",
      " [  0   0   3 ...   0   0  71]]\n",
      "classification report:               precision    recall  f1-score   support\n",
      "\n",
      "           0       0.74      0.82      0.78       106\n",
      "           1       0.68      0.72      0.70       112\n",
      "           2       0.81      0.89      0.85       107\n",
      "           3       0.76      0.78      0.77       108\n",
      "           4       0.81      0.85      0.83       114\n",
      "           5       0.76      0.69      0.73       117\n",
      "           6       0.97      0.94      0.96       108\n",
      "           7       0.81      0.79      0.80       122\n",
      "           8       0.91      0.91      0.91       115\n",
      "           9       0.79      0.77      0.78       123\n",
      "          10       0.73      0.68      0.70       120\n",
      "          11       0.84      0.81      0.83       118\n",
      "          12       0.87      0.87      0.87       105\n",
      "          13       0.73      0.70      0.72       114\n",
      "          14       0.78      0.85      0.81       113\n",
      "          15       0.95      0.87      0.91       115\n",
      "          16       0.90      0.90      0.90       124\n",
      "          17       0.86      0.81      0.84       116\n",
      "          18       0.81      0.87      0.84        97\n",
      "          19       0.78      0.82      0.80       101\n",
      "          20       0.85      0.83      0.84       106\n",
      "          21       0.62      0.68      0.65       105\n",
      "          22       0.91      0.95      0.93       121\n",
      "          23       0.76      0.78      0.77       116\n",
      "          24       0.65      0.60      0.62       118\n",
      "          25       0.87      0.94      0.90       116\n",
      "          26       0.61      0.58      0.60       121\n",
      "          27       0.69      0.77      0.73       111\n",
      "          28       0.87      0.81      0.84       113\n",
      "          29       0.90      0.88      0.89       107\n",
      "          30       0.94      0.85      0.89       103\n",
      "          31       0.60      0.65      0.62       110\n",
      "          32       0.75      0.72      0.73       113\n",
      "          33       0.70      0.75      0.72        91\n",
      "          34       0.73      0.80      0.76        94\n",
      "          35       0.88      0.86      0.87       116\n",
      "          36       0.74      0.65      0.69       127\n",
      "          37       0.78      0.76      0.77       114\n",
      "          38       0.84      0.83      0.83       103\n",
      "          39       0.88      0.76      0.82       122\n",
      "          40       0.80      0.83      0.81       111\n",
      "          41       0.73      0.79      0.76       132\n",
      "          42       0.92      0.92      0.92       128\n",
      "          43       0.71      0.77      0.74        98\n",
      "          44       0.75      0.74      0.75       109\n",
      "          45       0.90      0.93      0.92        99\n",
      "          46       0.89      0.91      0.90        92\n",
      "          47       0.79      0.72      0.75       128\n",
      "          48       0.67      0.64      0.65       102\n",
      "          49       0.78      0.74      0.76       110\n",
      "          50       0.45      0.45      0.45       111\n",
      "          51       1.00      1.00      1.00       110\n",
      "          52       0.93      0.96      0.95       101\n",
      "          53       0.65      0.65      0.65       110\n",
      "\n",
      "    accuracy                           0.79      6023\n",
      "   macro avg       0.79      0.79      0.79      6023\n",
      "weighted avg       0.79      0.79      0.79      6023\n",
      "\n"
     ]
    }
   ],
   "source": [
    "from sklearn.tree import DecisionTreeClassifier\n",
    "x_train,x_test,y_train,y_test=train_test_split(x,y,test_size=.33,random_state=42)\n",
    "dtc= DecisionTreeClassifier()\n",
    "dtc.fit(x_train,y_train)\n",
    "pred_dtc=dtc.predict(x_test)\n",
    "print('accuracy_score:',accuracy_score(y_test,pred_dtc))\n",
    "print(\"confusion matrix:\",confusion_matrix(y_test,pred_dtc))\n",
    "print(\"classification report:\",classification_report(y_test,pred_dtc))"
   ]
  },
  {
   "cell_type": "code",
   "execution_count": 147,
   "id": "32f94a11",
   "metadata": {},
   "outputs": [
    {
     "name": "stdout",
     "output_type": "stream",
     "text": [
      "accuracy_score: 0.8698323094803254\n",
      "confusion matrix: [[ 96   0   0 ...   0   0   0]\n",
      " [  0  94   0 ...   0   0   2]\n",
      " [  0   0 103 ...   0   0   0]\n",
      " ...\n",
      " [  0   0   0 ... 110   0   0]\n",
      " [  0   0   0 ...   0  97   0]\n",
      " [  0   2   2 ...   0   0  77]]\n",
      "classification report:               precision    recall  f1-score   support\n",
      "\n",
      "           0       0.83      0.91      0.86       106\n",
      "           1       0.75      0.84      0.79       112\n",
      "           2       0.90      0.96      0.93       107\n",
      "           3       0.84      0.80      0.82       108\n",
      "           4       0.89      0.96      0.93       114\n",
      "           5       0.82      0.76      0.79       117\n",
      "           6       0.96      0.99      0.97       108\n",
      "           7       0.86      0.88      0.87       122\n",
      "           8       0.97      0.96      0.96       115\n",
      "           9       0.91      0.89      0.90       123\n",
      "          10       0.78      0.77      0.77       120\n",
      "          11       0.90      0.89      0.89       118\n",
      "          12       0.89      0.94      0.92       105\n",
      "          13       0.86      0.84      0.85       114\n",
      "          14       0.90      0.90      0.90       113\n",
      "          15       0.97      0.97      0.97       115\n",
      "          16       0.96      0.95      0.96       124\n",
      "          17       0.91      0.91      0.91       116\n",
      "          18       0.82      0.91      0.86        97\n",
      "          19       0.82      0.88      0.85       101\n",
      "          20       0.94      0.94      0.94       106\n",
      "          21       0.70      0.81      0.75       105\n",
      "          22       0.97      0.97      0.97       121\n",
      "          23       0.80      0.88      0.84       116\n",
      "          24       0.66      0.71      0.69       118\n",
      "          25       0.93      0.97      0.95       116\n",
      "          26       0.76      0.79      0.78       121\n",
      "          27       0.82      0.86      0.84       111\n",
      "          28       0.96      0.94      0.95       113\n",
      "          29       0.94      0.93      0.94       107\n",
      "          30       0.99      0.89      0.94       103\n",
      "          31       0.71      0.75      0.73       110\n",
      "          32       0.90      0.85      0.87       113\n",
      "          33       0.86      0.80      0.83        91\n",
      "          34       0.89      0.84      0.86        94\n",
      "          35       0.88      0.91      0.90       116\n",
      "          36       0.84      0.76      0.80       127\n",
      "          37       0.82      0.89      0.86       114\n",
      "          38       0.90      0.86      0.88       103\n",
      "          39       0.93      0.91      0.92       122\n",
      "          40       0.90      0.89      0.90       111\n",
      "          41       0.85      0.77      0.81       132\n",
      "          42       0.92      0.98      0.95       128\n",
      "          43       0.81      0.86      0.83        98\n",
      "          44       0.82      0.85      0.84       109\n",
      "          45       0.94      0.98      0.96        99\n",
      "          46       0.98      0.91      0.94        92\n",
      "          47       0.89      0.82      0.85       128\n",
      "          48       0.91      0.75      0.82       102\n",
      "          49       0.81      0.84      0.82       110\n",
      "          50       0.62      0.48      0.54       111\n",
      "          51       0.99      1.00      1.00       110\n",
      "          52       0.99      0.96      0.97       101\n",
      "          53       0.86      0.70      0.77       110\n",
      "\n",
      "    accuracy                           0.87      6023\n",
      "   macro avg       0.87      0.87      0.87      6023\n",
      "weighted avg       0.87      0.87      0.87      6023\n",
      "\n"
     ]
    }
   ],
   "source": [
    "#randomforestclassifier\n",
    "from sklearn.ensemble import RandomForestClassifier\n",
    "rfc=RandomForestClassifier(n_estimators=10,criterion='entropy',random_state=42)\n",
    "rfc.fit(x_train,y_train)\n",
    "pred_rfc=rfc.predict(x_test)\n",
    "print('accuracy_score:',accuracy_score(y_test,pred_rfc))\n",
    "print(\"confusion matrix:\",confusion_matrix(y_test,pred_rfc))\n",
    "print(\"classification report:\",classification_report(y_test,pred_rfc))"
   ]
  },
  {
   "cell_type": "code",
   "execution_count": 148,
   "id": "d61ea6eb",
   "metadata": {},
   "outputs": [],
   "source": [
    "#kneighborsclassifiers\n",
    "from sklearn.neighbors import KNeighborsClassifier\n",
    "x_train,x_test,y_train,y_test=train_test_split(spca,y,test_size=.33,random_state=42)"
   ]
  },
  {
   "cell_type": "code",
   "execution_count": 149,
   "id": "8380ae5f",
   "metadata": {},
   "outputs": [
    {
     "name": "stdout",
     "output_type": "stream",
     "text": [
      "accuracy_score: 0.881620454922796\n",
      "confusion matrix: [[106   0   0 ...   0   0   0]\n",
      " [  8 101   3 ...   0   0   0]\n",
      " [  1   4  99 ...   0   0   0]\n",
      " ...\n",
      " [  0   0   0 ... 110   0   0]\n",
      " [  0   0   0 ...   0  99   1]\n",
      " [  0   0   0 ...   0   2 101]]\n",
      "classification report:               precision    recall  f1-score   support\n",
      "\n",
      "           0       0.92      1.00      0.96       106\n",
      "           1       0.94      0.90      0.92       112\n",
      "           2       0.82      0.93      0.87       107\n",
      "           3       0.88      0.82      0.85       108\n",
      "           4       0.86      0.86      0.86       114\n",
      "           5       0.93      0.88      0.90       117\n",
      "           6       0.94      0.97      0.95       108\n",
      "           7       0.95      0.89      0.92       122\n",
      "           8       0.89      0.95      0.92       115\n",
      "           9       0.83      0.89      0.86       123\n",
      "          10       0.88      0.83      0.85       120\n",
      "          11       0.89      0.88      0.89       118\n",
      "          12       0.78      0.88      0.83       105\n",
      "          13       0.76      0.76      0.76       114\n",
      "          14       0.90      0.74      0.82       113\n",
      "          15       0.98      0.97      0.98       115\n",
      "          16       0.89      0.95      0.92       124\n",
      "          17       0.99      0.88      0.93       116\n",
      "          18       0.82      0.96      0.88        97\n",
      "          19       0.81      0.81      0.81       101\n",
      "          20       0.73      0.79      0.76       106\n",
      "          21       0.76      0.75      0.76       105\n",
      "          22       0.90      0.86      0.88       121\n",
      "          23       0.83      0.90      0.86       116\n",
      "          24       0.92      0.81      0.86       118\n",
      "          25       0.99      0.94      0.96       116\n",
      "          26       0.79      0.88      0.83       121\n",
      "          27       0.81      0.73      0.77       111\n",
      "          28       0.93      0.97      0.95       113\n",
      "          29       0.98      0.93      0.95       107\n",
      "          30       0.89      0.97      0.93       103\n",
      "          31       0.90      0.85      0.88       110\n",
      "          32       0.93      0.88      0.90       113\n",
      "          33       0.93      0.89      0.91        91\n",
      "          34       0.93      1.00      0.96        94\n",
      "          35       0.90      0.99      0.94       116\n",
      "          36       0.97      0.80      0.87       127\n",
      "          37       0.82      0.95      0.88       114\n",
      "          38       0.76      0.85      0.80       103\n",
      "          39       0.86      0.75      0.80       122\n",
      "          40       0.79      0.93      0.85       111\n",
      "          41       0.88      0.81      0.85       132\n",
      "          42       0.93      0.90      0.92       128\n",
      "          43       0.90      0.85      0.87        98\n",
      "          44       0.93      0.89      0.91       109\n",
      "          45       0.89      0.94      0.92        99\n",
      "          46       0.89      0.90      0.90        92\n",
      "          47       0.81      0.86      0.84       128\n",
      "          48       0.74      0.73      0.73       102\n",
      "          49       0.84      0.89      0.87       110\n",
      "          50       0.93      0.84      0.88       111\n",
      "          51       1.00      1.00      1.00       110\n",
      "          52       0.98      0.98      0.98       101\n",
      "          53       0.99      0.92      0.95       110\n",
      "\n",
      "    accuracy                           0.88      6023\n",
      "   macro avg       0.88      0.88      0.88      6023\n",
      "weighted avg       0.88      0.88      0.88      6023\n",
      "\n"
     ]
    }
   ],
   "source": [
    "knc=KNeighborsClassifier(n_neighbors=2)\n",
    "knc.fit(x_train,y_train)\n",
    "pred_knc=knc.predict(x_test)\n",
    "print('accuracy_score:',accuracy_score(y_test,pred_knc))\n",
    "print(\"confusion matrix:\",confusion_matrix(y_test,pred_knc))\n",
    "print(\"classification report:\",classification_report(y_test,pred_knc))"
   ]
  },
  {
   "cell_type": "code",
   "execution_count": 150,
   "id": "c8052f7c",
   "metadata": {},
   "outputs": [
    {
     "name": "stdout",
     "output_type": "stream",
     "text": [
      "accuracy_score: 0.200398472521999\n",
      "confusion matrix: [[ 0  0  0 ...  0  0  0]\n",
      " [ 0 36  0 ...  0  0 14]\n",
      " [ 0  0 57 ...  0  0  0]\n",
      " ...\n",
      " [ 0  0  0 ... 89  0  0]\n",
      " [ 0  0  0 ...  1 50  0]\n",
      " [ 0  3  0 ...  0  0 40]]\n",
      "classification report:               precision    recall  f1-score   support\n",
      "\n",
      "           0       0.00      0.00      0.00       106\n",
      "           1       0.23      0.32      0.27       112\n",
      "           2       0.59      0.53      0.56       107\n",
      "           3       0.00      0.00      0.00       108\n",
      "           4       0.42      0.34      0.38       114\n",
      "           5       0.00      0.00      0.00       117\n",
      "           6       0.90      0.35      0.51       108\n",
      "           7       0.00      0.00      0.00       122\n",
      "           8       0.91      0.43      0.59       115\n",
      "           9       0.00      0.00      0.00       123\n",
      "          10       0.00      0.00      0.00       120\n",
      "          11       0.78      0.25      0.37       118\n",
      "          12       0.75      0.40      0.52       105\n",
      "          13       1.00      0.01      0.02       114\n",
      "          14       0.00      0.00      0.00       113\n",
      "          15       0.94      0.39      0.55       115\n",
      "          16       0.00      0.00      0.00       124\n",
      "          17       0.00      0.00      0.00       116\n",
      "          18       0.51      0.26      0.34        97\n",
      "          19       0.02      0.02      0.02       101\n",
      "          20       0.00      0.00      0.00       106\n",
      "          21       0.23      0.11      0.15       105\n",
      "          22       0.93      0.44      0.60       121\n",
      "          23       0.00      0.00      0.00       116\n",
      "          24       0.00      0.00      0.00       118\n",
      "          25       0.95      0.46      0.62       116\n",
      "          26       0.00      0.00      0.00       121\n",
      "          27       0.00      0.00      0.00       111\n",
      "          28       0.98      0.45      0.62       113\n",
      "          29       0.98      0.49      0.65       107\n",
      "          30       0.25      0.23      0.24       103\n",
      "          31       0.00      0.00      0.00       110\n",
      "          32       0.42      0.12      0.18       113\n",
      "          33       0.51      0.27      0.36        91\n",
      "          34       0.02      1.00      0.05        94\n",
      "          35       0.84      0.42      0.56       116\n",
      "          36       1.00      0.01      0.02       127\n",
      "          37       0.00      0.00      0.00       114\n",
      "          38       0.00      0.00      0.00       103\n",
      "          39       0.00      0.00      0.00       122\n",
      "          40       0.44      0.46      0.45       111\n",
      "          41       0.79      0.08      0.15       132\n",
      "          42       0.70      0.39      0.50       128\n",
      "          43       0.30      0.22      0.26        98\n",
      "          44       0.20      0.14      0.16       109\n",
      "          45       0.79      0.46      0.59        99\n",
      "          46       0.95      0.45      0.61        92\n",
      "          47       0.00      0.00      0.00       128\n",
      "          48       0.01      0.01      0.01       102\n",
      "          49       0.00      0.00      0.00       110\n",
      "          50       0.00      0.00      0.00       111\n",
      "          51       0.84      0.81      0.82       110\n",
      "          52       0.94      0.50      0.65       101\n",
      "          53       0.38      0.36      0.37       110\n",
      "\n",
      "    accuracy                           0.20      6023\n",
      "   macro avg       0.38      0.21      0.24      6023\n",
      "weighted avg       0.38      0.20      0.23      6023\n",
      "\n"
     ]
    }
   ],
   "source": [
    "#support vector classifier\n",
    "x_train,x_test,y_train,y_test=train_test_split(x,y,test_size=.33,random_state=42)\n",
    "from sklearn.svm import SVC\n",
    "svc2=SVC()\n",
    "svc2.fit(x_train,y_train)\n",
    "pred_svc2=svc2.predict(x_test)\n",
    "print('accuracy_score:',accuracy_score(y_test,pred_svc2))\n",
    "print(\"confusion matrix:\",confusion_matrix(y_test,pred_svc2))\n",
    "print(\"classification report:\",classification_report(y_test,pred_svc2))"
   ]
  },
  {
   "cell_type": "markdown",
   "id": "69387a7a",
   "metadata": {},
   "source": [
    "random forest classifier performed the best with 87% accuracy"
   ]
  },
  {
   "cell_type": "code",
   "execution_count": 151,
   "id": "2848a10e",
   "metadata": {},
   "outputs": [],
   "source": [
    "import pickle\n",
    "filename='avocado(region).pkl'\n",
    "pickle.dump(rfc,open(filename,'wb'))"
   ]
  },
  {
   "cell_type": "code",
   "execution_count": 152,
   "id": "e691015f",
   "metadata": {},
   "outputs": [
    {
     "data": {
      "text/plain": [
       "0.9972190413872076"
      ]
     },
     "execution_count": 152,
     "metadata": {},
     "output_type": "execute_result"
    }
   ],
   "source": [
    "load_model=pickle.load(open(filename,'rb'))\n",
    "result=load_model.score(x_train,y_train)\n",
    "result"
   ]
  },
  {
   "cell_type": "code",
   "execution_count": null,
   "id": "2cd49c38",
   "metadata": {},
   "outputs": [],
   "source": []
  }
 ],
 "metadata": {
  "kernelspec": {
   "display_name": "Python 3",
   "language": "python",
   "name": "python3"
  },
  "language_info": {
   "codemirror_mode": {
    "name": "ipython",
    "version": 3
   },
   "file_extension": ".py",
   "mimetype": "text/x-python",
   "name": "python",
   "nbconvert_exporter": "python",
   "pygments_lexer": "ipython3",
   "version": "3.8.8"
  }
 },
 "nbformat": 4,
 "nbformat_minor": 5
}
